{
  "nbformat": 4,
  "nbformat_minor": 0,
  "metadata": {
    "colab": {
      "provenance": []
    },
    "kernelspec": {
      "name": "python3",
      "display_name": "Python 3"
    }
  },
  "cells": [
    {
      "cell_type": "code",
      "metadata": {
        "id": "DWgQkOUlRl9n",
        "outputId": "5f39af85-5b0c-4810-a72b-8d24cae71c71",
        "colab": {
          "base_uri": "https://localhost:8080/",
          "height": 71
        }
      },
      "source": [
        "import pandas as pd\n",
        "import numpy as np\n",
        "import matplotlib.pyplot as plt\n",
        "import seaborn as sns\n",
        "import datetime as dt\n",
        "import re"
      ],
      "execution_count": null,
      "outputs": [
        {
          "output_type": "stream",
          "text": [
            "/usr/local/lib/python3.6/dist-packages/statsmodels/tools/_testing.py:19: FutureWarning: pandas.util.testing is deprecated. Use the functions in the public API at pandas.testing instead.\n",
            "  import pandas.util.testing as tm\n"
          ],
          "name": "stderr"
        }
      ]
    },
    {
      "cell_type": "code",
      "metadata": {
        "id": "jB7lC0qeuLGh"
      },
      "source": [
        "size=(19,9)\n",
        "sns.set_style('darkgrid')"
      ],
      "execution_count": null,
      "outputs": []
    },
    {
      "cell_type": "code",
      "metadata": {
        "id": "R_GZO4TSUesS",
        "outputId": "9dfba7a9-ea69-4b96-ab40-b96aba4c1423",
        "colab": {
          "base_uri": "https://localhost:8080/",
          "height": 71
        }
      },
      "source": [
        "data = pd.read_csv('/content/drive/My Drive/ColabDataset/Concatenate_B2C_B2E.csv')\n",
        "\n",
        "\n",
        "DataTotalLen = len(data)"
      ],
      "execution_count": null,
      "outputs": [
        {
          "output_type": "stream",
          "text": [
            "/usr/local/lib/python3.6/dist-packages/IPython/core/interactiveshell.py:2718: DtypeWarning: Columns (1) have mixed types.Specify dtype option on import or set low_memory=False.\n",
            "  interactivity=interactivity, compiler=compiler, result=result)\n"
          ],
          "name": "stderr"
        }
      ]
    },
    {
      "cell_type": "code",
      "metadata": {
        "id": "ZtI8Js4wVGYs",
        "outputId": "7421caa4-be94-4aa6-ff2b-f7d349937ef0",
        "colab": {
          "base_uri": "https://localhost:8080/",
          "height": 374
        }
      },
      "source": [
        "data.head(10)"
      ],
      "execution_count": null,
      "outputs": [
        {
          "output_type": "execute_result",
          "data": {
            "text/html": [
              "<div>\n",
              "<style scoped>\n",
              "    .dataframe tbody tr th:only-of-type {\n",
              "        vertical-align: middle;\n",
              "    }\n",
              "\n",
              "    .dataframe tbody tr th {\n",
              "        vertical-align: top;\n",
              "    }\n",
              "\n",
              "    .dataframe thead th {\n",
              "        text-align: right;\n",
              "    }\n",
              "</style>\n",
              "<table border=\"1\" class=\"dataframe\">\n",
              "  <thead>\n",
              "    <tr style=\"text-align: right;\">\n",
              "      <th></th>\n",
              "      <th>InvoiceDate</th>\n",
              "      <th>NetFare</th>\n",
              "      <th>ProductType</th>\n",
              "      <th>ItineraryType</th>\n",
              "    </tr>\n",
              "  </thead>\n",
              "  <tbody>\n",
              "    <tr>\n",
              "      <th>0</th>\n",
              "      <td>01-12-2018 11:43</td>\n",
              "      <td>2160</td>\n",
              "      <td>Other Product</td>\n",
              "      <td>Domestic</td>\n",
              "    </tr>\n",
              "    <tr>\n",
              "      <th>1</th>\n",
              "      <td>01-12-2018 11:43</td>\n",
              "      <td>0.49</td>\n",
              "      <td>Other Product</td>\n",
              "      <td>Domestic</td>\n",
              "    </tr>\n",
              "    <tr>\n",
              "      <th>2</th>\n",
              "      <td>01-12-2018 13:01</td>\n",
              "      <td>6550</td>\n",
              "      <td>Air</td>\n",
              "      <td>Domestic</td>\n",
              "    </tr>\n",
              "    <tr>\n",
              "      <th>3</th>\n",
              "      <td>01-12-2018 13:10</td>\n",
              "      <td>6550</td>\n",
              "      <td>Air</td>\n",
              "      <td>Domestic</td>\n",
              "    </tr>\n",
              "    <tr>\n",
              "      <th>4</th>\n",
              "      <td>30-11-2018 14:30</td>\n",
              "      <td>5497</td>\n",
              "      <td>Air</td>\n",
              "      <td>Domestic</td>\n",
              "    </tr>\n",
              "    <tr>\n",
              "      <th>5</th>\n",
              "      <td>01-12-2018 14:09</td>\n",
              "      <td>4818</td>\n",
              "      <td>Air</td>\n",
              "      <td>Domestic</td>\n",
              "    </tr>\n",
              "    <tr>\n",
              "      <th>6</th>\n",
              "      <td>30-11-2018 14:30</td>\n",
              "      <td>1768</td>\n",
              "      <td>Air</td>\n",
              "      <td>Domestic</td>\n",
              "    </tr>\n",
              "    <tr>\n",
              "      <th>7</th>\n",
              "      <td>01-12-2018 13:10</td>\n",
              "      <td>7300</td>\n",
              "      <td>Air</td>\n",
              "      <td>Domestic</td>\n",
              "    </tr>\n",
              "    <tr>\n",
              "      <th>8</th>\n",
              "      <td>30-11-2018 17:30</td>\n",
              "      <td>7050</td>\n",
              "      <td>Air</td>\n",
              "      <td>Domestic</td>\n",
              "    </tr>\n",
              "    <tr>\n",
              "      <th>9</th>\n",
              "      <td>01-12-2018 14:25</td>\n",
              "      <td>7300</td>\n",
              "      <td>Air</td>\n",
              "      <td>Domestic</td>\n",
              "    </tr>\n",
              "  </tbody>\n",
              "</table>\n",
              "</div>"
            ],
            "text/plain": [
              "        InvoiceDate NetFare    ProductType ItineraryType\n",
              "0  01-12-2018 11:43    2160  Other Product      Domestic\n",
              "1  01-12-2018 11:43    0.49  Other Product      Domestic\n",
              "2  01-12-2018 13:01    6550            Air      Domestic\n",
              "3  01-12-2018 13:10    6550            Air      Domestic\n",
              "4  30-11-2018 14:30    5497            Air      Domestic\n",
              "5  01-12-2018 14:09    4818            Air      Domestic\n",
              "6  30-11-2018 14:30    1768            Air      Domestic\n",
              "7  01-12-2018 13:10    7300            Air      Domestic\n",
              "8  30-11-2018 17:30    7050            Air      Domestic\n",
              "9  01-12-2018 14:25    7300            Air      Domestic"
            ]
          },
          "metadata": {
            "tags": []
          },
          "execution_count": 4
        }
      ]
    },
    {
      "cell_type": "code",
      "metadata": {
        "id": "fFclVEevVH0X"
      },
      "source": [
        "data['InvoiceDate'] = pd.to_datetime(data['InvoiceDate'])"
      ],
      "execution_count": null,
      "outputs": []
    },
    {
      "cell_type": "code",
      "metadata": {
        "id": "dx8qI0tfVzVM"
      },
      "source": [
        "data['InvoiceTime'] = data['InvoiceDate'].dt.time"
      ],
      "execution_count": null,
      "outputs": []
    },
    {
      "cell_type": "code",
      "metadata": {
        "id": "3_KJH0FUWZuI",
        "outputId": "e5bb8f92-2486-4d3a-e765-897daba2593a",
        "colab": {
          "base_uri": "https://localhost:8080/",
          "height": 374
        }
      },
      "source": [
        "data.head(10)"
      ],
      "execution_count": null,
      "outputs": [
        {
          "output_type": "execute_result",
          "data": {
            "text/html": [
              "<div>\n",
              "<style scoped>\n",
              "    .dataframe tbody tr th:only-of-type {\n",
              "        vertical-align: middle;\n",
              "    }\n",
              "\n",
              "    .dataframe tbody tr th {\n",
              "        vertical-align: top;\n",
              "    }\n",
              "\n",
              "    .dataframe thead th {\n",
              "        text-align: right;\n",
              "    }\n",
              "</style>\n",
              "<table border=\"1\" class=\"dataframe\">\n",
              "  <thead>\n",
              "    <tr style=\"text-align: right;\">\n",
              "      <th></th>\n",
              "      <th>InvoiceDate</th>\n",
              "      <th>NetFare</th>\n",
              "      <th>ProductType</th>\n",
              "      <th>ItineraryType</th>\n",
              "      <th>InvoiceTime</th>\n",
              "    </tr>\n",
              "  </thead>\n",
              "  <tbody>\n",
              "    <tr>\n",
              "      <th>0</th>\n",
              "      <td>2018-01-12 11:43:00</td>\n",
              "      <td>2160</td>\n",
              "      <td>Other Product</td>\n",
              "      <td>Domestic</td>\n",
              "      <td>11:43:00</td>\n",
              "    </tr>\n",
              "    <tr>\n",
              "      <th>1</th>\n",
              "      <td>2018-01-12 11:43:00</td>\n",
              "      <td>0.49</td>\n",
              "      <td>Other Product</td>\n",
              "      <td>Domestic</td>\n",
              "      <td>11:43:00</td>\n",
              "    </tr>\n",
              "    <tr>\n",
              "      <th>2</th>\n",
              "      <td>2018-01-12 13:01:00</td>\n",
              "      <td>6550</td>\n",
              "      <td>Air</td>\n",
              "      <td>Domestic</td>\n",
              "      <td>13:01:00</td>\n",
              "    </tr>\n",
              "    <tr>\n",
              "      <th>3</th>\n",
              "      <td>2018-01-12 13:10:00</td>\n",
              "      <td>6550</td>\n",
              "      <td>Air</td>\n",
              "      <td>Domestic</td>\n",
              "      <td>13:10:00</td>\n",
              "    </tr>\n",
              "    <tr>\n",
              "      <th>4</th>\n",
              "      <td>2018-11-30 14:30:00</td>\n",
              "      <td>5497</td>\n",
              "      <td>Air</td>\n",
              "      <td>Domestic</td>\n",
              "      <td>14:30:00</td>\n",
              "    </tr>\n",
              "    <tr>\n",
              "      <th>5</th>\n",
              "      <td>2018-01-12 14:09:00</td>\n",
              "      <td>4818</td>\n",
              "      <td>Air</td>\n",
              "      <td>Domestic</td>\n",
              "      <td>14:09:00</td>\n",
              "    </tr>\n",
              "    <tr>\n",
              "      <th>6</th>\n",
              "      <td>2018-11-30 14:30:00</td>\n",
              "      <td>1768</td>\n",
              "      <td>Air</td>\n",
              "      <td>Domestic</td>\n",
              "      <td>14:30:00</td>\n",
              "    </tr>\n",
              "    <tr>\n",
              "      <th>7</th>\n",
              "      <td>2018-01-12 13:10:00</td>\n",
              "      <td>7300</td>\n",
              "      <td>Air</td>\n",
              "      <td>Domestic</td>\n",
              "      <td>13:10:00</td>\n",
              "    </tr>\n",
              "    <tr>\n",
              "      <th>8</th>\n",
              "      <td>2018-11-30 17:30:00</td>\n",
              "      <td>7050</td>\n",
              "      <td>Air</td>\n",
              "      <td>Domestic</td>\n",
              "      <td>17:30:00</td>\n",
              "    </tr>\n",
              "    <tr>\n",
              "      <th>9</th>\n",
              "      <td>2018-01-12 14:25:00</td>\n",
              "      <td>7300</td>\n",
              "      <td>Air</td>\n",
              "      <td>Domestic</td>\n",
              "      <td>14:25:00</td>\n",
              "    </tr>\n",
              "  </tbody>\n",
              "</table>\n",
              "</div>"
            ],
            "text/plain": [
              "          InvoiceDate NetFare    ProductType ItineraryType InvoiceTime\n",
              "0 2018-01-12 11:43:00    2160  Other Product      Domestic    11:43:00\n",
              "1 2018-01-12 11:43:00    0.49  Other Product      Domestic    11:43:00\n",
              "2 2018-01-12 13:01:00    6550            Air      Domestic    13:01:00\n",
              "3 2018-01-12 13:10:00    6550            Air      Domestic    13:10:00\n",
              "4 2018-11-30 14:30:00    5497            Air      Domestic    14:30:00\n",
              "5 2018-01-12 14:09:00    4818            Air      Domestic    14:09:00\n",
              "6 2018-11-30 14:30:00    1768            Air      Domestic    14:30:00\n",
              "7 2018-01-12 13:10:00    7300            Air      Domestic    13:10:00\n",
              "8 2018-11-30 17:30:00    7050            Air      Domestic    17:30:00\n",
              "9 2018-01-12 14:25:00    7300            Air      Domestic    14:25:00"
            ]
          },
          "metadata": {
            "tags": []
          },
          "execution_count": 7
        }
      ]
    },
    {
      "cell_type": "code",
      "metadata": {
        "id": "JBY72zWBWbF9"
      },
      "source": [
        "data['InvoiceDate'] = data['InvoiceDate'].dt.date"
      ],
      "execution_count": null,
      "outputs": []
    },
    {
      "cell_type": "code",
      "metadata": {
        "id": "CvgpsX9RWmiU",
        "outputId": "6e0b3511-9ee9-4892-db15-66bc66aeb7eb",
        "colab": {
          "base_uri": "https://localhost:8080/",
          "height": 374
        }
      },
      "source": [
        "data.head(10)"
      ],
      "execution_count": null,
      "outputs": [
        {
          "output_type": "execute_result",
          "data": {
            "text/html": [
              "<div>\n",
              "<style scoped>\n",
              "    .dataframe tbody tr th:only-of-type {\n",
              "        vertical-align: middle;\n",
              "    }\n",
              "\n",
              "    .dataframe tbody tr th {\n",
              "        vertical-align: top;\n",
              "    }\n",
              "\n",
              "    .dataframe thead th {\n",
              "        text-align: right;\n",
              "    }\n",
              "</style>\n",
              "<table border=\"1\" class=\"dataframe\">\n",
              "  <thead>\n",
              "    <tr style=\"text-align: right;\">\n",
              "      <th></th>\n",
              "      <th>InvoiceDate</th>\n",
              "      <th>NetFare</th>\n",
              "      <th>ProductType</th>\n",
              "      <th>ItineraryType</th>\n",
              "      <th>InvoiceTime</th>\n",
              "    </tr>\n",
              "  </thead>\n",
              "  <tbody>\n",
              "    <tr>\n",
              "      <th>0</th>\n",
              "      <td>2018-01-12</td>\n",
              "      <td>2160</td>\n",
              "      <td>Other Product</td>\n",
              "      <td>Domestic</td>\n",
              "      <td>11:43:00</td>\n",
              "    </tr>\n",
              "    <tr>\n",
              "      <th>1</th>\n",
              "      <td>2018-01-12</td>\n",
              "      <td>0.49</td>\n",
              "      <td>Other Product</td>\n",
              "      <td>Domestic</td>\n",
              "      <td>11:43:00</td>\n",
              "    </tr>\n",
              "    <tr>\n",
              "      <th>2</th>\n",
              "      <td>2018-01-12</td>\n",
              "      <td>6550</td>\n",
              "      <td>Air</td>\n",
              "      <td>Domestic</td>\n",
              "      <td>13:01:00</td>\n",
              "    </tr>\n",
              "    <tr>\n",
              "      <th>3</th>\n",
              "      <td>2018-01-12</td>\n",
              "      <td>6550</td>\n",
              "      <td>Air</td>\n",
              "      <td>Domestic</td>\n",
              "      <td>13:10:00</td>\n",
              "    </tr>\n",
              "    <tr>\n",
              "      <th>4</th>\n",
              "      <td>2018-11-30</td>\n",
              "      <td>5497</td>\n",
              "      <td>Air</td>\n",
              "      <td>Domestic</td>\n",
              "      <td>14:30:00</td>\n",
              "    </tr>\n",
              "    <tr>\n",
              "      <th>5</th>\n",
              "      <td>2018-01-12</td>\n",
              "      <td>4818</td>\n",
              "      <td>Air</td>\n",
              "      <td>Domestic</td>\n",
              "      <td>14:09:00</td>\n",
              "    </tr>\n",
              "    <tr>\n",
              "      <th>6</th>\n",
              "      <td>2018-11-30</td>\n",
              "      <td>1768</td>\n",
              "      <td>Air</td>\n",
              "      <td>Domestic</td>\n",
              "      <td>14:30:00</td>\n",
              "    </tr>\n",
              "    <tr>\n",
              "      <th>7</th>\n",
              "      <td>2018-01-12</td>\n",
              "      <td>7300</td>\n",
              "      <td>Air</td>\n",
              "      <td>Domestic</td>\n",
              "      <td>13:10:00</td>\n",
              "    </tr>\n",
              "    <tr>\n",
              "      <th>8</th>\n",
              "      <td>2018-11-30</td>\n",
              "      <td>7050</td>\n",
              "      <td>Air</td>\n",
              "      <td>Domestic</td>\n",
              "      <td>17:30:00</td>\n",
              "    </tr>\n",
              "    <tr>\n",
              "      <th>9</th>\n",
              "      <td>2018-01-12</td>\n",
              "      <td>7300</td>\n",
              "      <td>Air</td>\n",
              "      <td>Domestic</td>\n",
              "      <td>14:25:00</td>\n",
              "    </tr>\n",
              "  </tbody>\n",
              "</table>\n",
              "</div>"
            ],
            "text/plain": [
              "  InvoiceDate NetFare    ProductType ItineraryType InvoiceTime\n",
              "0  2018-01-12    2160  Other Product      Domestic    11:43:00\n",
              "1  2018-01-12    0.49  Other Product      Domestic    11:43:00\n",
              "2  2018-01-12    6550            Air      Domestic    13:01:00\n",
              "3  2018-01-12    6550            Air      Domestic    13:10:00\n",
              "4  2018-11-30    5497            Air      Domestic    14:30:00\n",
              "5  2018-01-12    4818            Air      Domestic    14:09:00\n",
              "6  2018-11-30    1768            Air      Domestic    14:30:00\n",
              "7  2018-01-12    7300            Air      Domestic    13:10:00\n",
              "8  2018-11-30    7050            Air      Domestic    17:30:00\n",
              "9  2018-01-12    7300            Air      Domestic    14:25:00"
            ]
          },
          "metadata": {
            "tags": []
          },
          "execution_count": 9
        }
      ]
    },
    {
      "cell_type": "code",
      "metadata": {
        "id": "Z_TI1HwYZTKv",
        "outputId": "ec4737fd-377e-461b-8bf5-20d2f3a7cb66",
        "colab": {
          "base_uri": "https://localhost:8080/",
          "height": 236
        }
      },
      "source": [
        "data.info()"
      ],
      "execution_count": null,
      "outputs": [
        {
          "output_type": "stream",
          "text": [
            "<class 'pandas.core.frame.DataFrame'>\n",
            "RangeIndex: 278466 entries, 0 to 278465\n",
            "Data columns (total 5 columns):\n",
            " #   Column         Non-Null Count   Dtype \n",
            "---  ------         --------------   ----- \n",
            " 0   InvoiceDate    278464 non-null  object\n",
            " 1   NetFare        217576 non-null  object\n",
            " 2   ProductType    278464 non-null  object\n",
            " 3   ItineraryType  245689 non-null  object\n",
            " 4   InvoiceTime    278464 non-null  object\n",
            "dtypes: object(5)\n",
            "memory usage: 10.6+ MB\n"
          ],
          "name": "stdout"
        }
      ]
    },
    {
      "cell_type": "code",
      "metadata": {
        "id": "xxEJ7OM_WnrA",
        "outputId": "06e9e595-0145-4613-f9f7-e471f3cfdfe5",
        "colab": {
          "base_uri": "https://localhost:8080/",
          "height": 191
        }
      },
      "source": [
        "data.describe()"
      ],
      "execution_count": null,
      "outputs": [
        {
          "output_type": "execute_result",
          "data": {
            "text/html": [
              "<div>\n",
              "<style scoped>\n",
              "    .dataframe tbody tr th:only-of-type {\n",
              "        vertical-align: middle;\n",
              "    }\n",
              "\n",
              "    .dataframe tbody tr th {\n",
              "        vertical-align: top;\n",
              "    }\n",
              "\n",
              "    .dataframe thead th {\n",
              "        text-align: right;\n",
              "    }\n",
              "</style>\n",
              "<table border=\"1\" class=\"dataframe\">\n",
              "  <thead>\n",
              "    <tr style=\"text-align: right;\">\n",
              "      <th></th>\n",
              "      <th>InvoiceDate</th>\n",
              "      <th>NetFare</th>\n",
              "      <th>ProductType</th>\n",
              "      <th>ItineraryType</th>\n",
              "      <th>InvoiceTime</th>\n",
              "    </tr>\n",
              "  </thead>\n",
              "  <tbody>\n",
              "    <tr>\n",
              "      <th>count</th>\n",
              "      <td>278464</td>\n",
              "      <td>217576.0</td>\n",
              "      <td>278464</td>\n",
              "      <td>245689</td>\n",
              "      <td>278464</td>\n",
              "    </tr>\n",
              "    <tr>\n",
              "      <th>unique</th>\n",
              "      <td>425</td>\n",
              "      <td>31033.0</td>\n",
              "      <td>14</td>\n",
              "      <td>2</td>\n",
              "      <td>1427</td>\n",
              "    </tr>\n",
              "    <tr>\n",
              "      <th>top</th>\n",
              "      <td>2019-06-05</td>\n",
              "      <td>0.0</td>\n",
              "      <td>Air</td>\n",
              "      <td>Domestic</td>\n",
              "      <td>17:01:00</td>\n",
              "    </tr>\n",
              "    <tr>\n",
              "      <th>freq</th>\n",
              "      <td>2427</td>\n",
              "      <td>21931.0</td>\n",
              "      <td>151995</td>\n",
              "      <td>225231</td>\n",
              "      <td>922</td>\n",
              "    </tr>\n",
              "  </tbody>\n",
              "</table>\n",
              "</div>"
            ],
            "text/plain": [
              "       InvoiceDate   NetFare ProductType ItineraryType InvoiceTime\n",
              "count       278464  217576.0      278464        245689      278464\n",
              "unique         425   31033.0          14             2        1427\n",
              "top     2019-06-05       0.0         Air      Domestic    17:01:00\n",
              "freq          2427   21931.0      151995        225231         922"
            ]
          },
          "metadata": {
            "tags": []
          },
          "execution_count": 11
        }
      ]
    },
    {
      "cell_type": "code",
      "metadata": {
        "id": "fbRRzz6ZukzS",
        "outputId": "95ebc7be-a970-4215-ab2c-a6162e72ea97",
        "colab": {
          "base_uri": "https://localhost:8080/",
          "height": 191
        }
      },
      "source": [
        "data.describe(include='object')"
      ],
      "execution_count": null,
      "outputs": [
        {
          "output_type": "execute_result",
          "data": {
            "text/html": [
              "<div>\n",
              "<style scoped>\n",
              "    .dataframe tbody tr th:only-of-type {\n",
              "        vertical-align: middle;\n",
              "    }\n",
              "\n",
              "    .dataframe tbody tr th {\n",
              "        vertical-align: top;\n",
              "    }\n",
              "\n",
              "    .dataframe thead th {\n",
              "        text-align: right;\n",
              "    }\n",
              "</style>\n",
              "<table border=\"1\" class=\"dataframe\">\n",
              "  <thead>\n",
              "    <tr style=\"text-align: right;\">\n",
              "      <th></th>\n",
              "      <th>InvoiceDate</th>\n",
              "      <th>NetFare</th>\n",
              "      <th>ProductType</th>\n",
              "      <th>ItineraryType</th>\n",
              "      <th>InvoiceTime</th>\n",
              "    </tr>\n",
              "  </thead>\n",
              "  <tbody>\n",
              "    <tr>\n",
              "      <th>count</th>\n",
              "      <td>278464</td>\n",
              "      <td>217576.0</td>\n",
              "      <td>278464</td>\n",
              "      <td>245689</td>\n",
              "      <td>278464</td>\n",
              "    </tr>\n",
              "    <tr>\n",
              "      <th>unique</th>\n",
              "      <td>425</td>\n",
              "      <td>31033.0</td>\n",
              "      <td>14</td>\n",
              "      <td>2</td>\n",
              "      <td>1427</td>\n",
              "    </tr>\n",
              "    <tr>\n",
              "      <th>top</th>\n",
              "      <td>2019-06-05</td>\n",
              "      <td>0.0</td>\n",
              "      <td>Air</td>\n",
              "      <td>Domestic</td>\n",
              "      <td>17:01:00</td>\n",
              "    </tr>\n",
              "    <tr>\n",
              "      <th>freq</th>\n",
              "      <td>2427</td>\n",
              "      <td>21931.0</td>\n",
              "      <td>151995</td>\n",
              "      <td>225231</td>\n",
              "      <td>922</td>\n",
              "    </tr>\n",
              "  </tbody>\n",
              "</table>\n",
              "</div>"
            ],
            "text/plain": [
              "       InvoiceDate   NetFare ProductType ItineraryType InvoiceTime\n",
              "count       278464  217576.0      278464        245689      278464\n",
              "unique         425   31033.0          14             2        1427\n",
              "top     2019-06-05       0.0         Air      Domestic    17:01:00\n",
              "freq          2427   21931.0      151995        225231         922"
            ]
          },
          "metadata": {
            "tags": []
          },
          "execution_count": 12
        }
      ]
    },
    {
      "cell_type": "code",
      "metadata": {
        "id": "dm-Ppdn6a6pc",
        "outputId": "765a1047-dd14-44ea-a175-a29835a013ee",
        "colab": {
          "base_uri": "https://localhost:8080/",
          "height": 203
        }
      },
      "source": [
        "for x in data.columns:\n",
        "  print(\"Total % Null value in \"+x+\" - \",data[x].isna().sum()/len(data)*100)\n",
        "  print()"
      ],
      "execution_count": null,
      "outputs": [
        {
          "output_type": "stream",
          "text": [
            "Total % Null value in InvoiceDate -  0.0007182205367980292\n",
            "\n",
            "Total % Null value in NetFare -  21.866224242816\n",
            "\n",
            "Total % Null value in ProductType -  0.0007182205367980292\n",
            "\n",
            "Total % Null value in ItineraryType -  11.770557267314501\n",
            "\n",
            "Total % Null value in InvoiceTime -  0.0007182205367980292\n",
            "\n"
          ],
          "name": "stdout"
        }
      ]
    },
    {
      "cell_type": "code",
      "metadata": {
        "id": "17NGuNlgWqX8",
        "outputId": "24839c0b-ab89-40b1-d52a-9c159fb5b149",
        "colab": {
          "base_uri": "https://localhost:8080/",
          "height": 54
        }
      },
      "source": [
        "dateFinder = re.compile('[0-9]{2}-[0-9]{2}.+')\n",
        "def FloatConverter(x):\n",
        "  if(type(x)!=int)or(type(x)!=float):\n",
        "    x = str(x)\n",
        "    if(dateFinder.match(x)):\n",
        "      print(x)\n",
        "      return np.nan\n",
        "    else:\n",
        "      return float(x)\n",
        "  else:\n",
        "    print(x)\n",
        "    return float(x)\n",
        "  \n",
        "    \n",
        "\n",
        "data['NetFare'] = data['NetFare'].apply(FloatConverter)"
      ],
      "execution_count": null,
      "outputs": [
        {
          "output_type": "stream",
          "text": [
            "06-06-2019 17:08\n"
          ],
          "name": "stdout"
        }
      ]
    },
    {
      "cell_type": "code",
      "metadata": {
        "id": "HP7sfjmHaSTV",
        "outputId": "4194a7e2-5734-423e-cb6c-9a09889e73c5",
        "colab": {
          "base_uri": "https://localhost:8080/",
          "height": 236
        }
      },
      "source": [
        "data.info()"
      ],
      "execution_count": null,
      "outputs": [
        {
          "output_type": "stream",
          "text": [
            "<class 'pandas.core.frame.DataFrame'>\n",
            "RangeIndex: 278466 entries, 0 to 278465\n",
            "Data columns (total 5 columns):\n",
            " #   Column         Non-Null Count   Dtype  \n",
            "---  ------         --------------   -----  \n",
            " 0   InvoiceDate    278464 non-null  object \n",
            " 1   NetFare        217575 non-null  float64\n",
            " 2   ProductType    278464 non-null  object \n",
            " 3   ItineraryType  245689 non-null  object \n",
            " 4   InvoiceTime    278464 non-null  object \n",
            "dtypes: float64(1), object(4)\n",
            "memory usage: 10.6+ MB\n"
          ],
          "name": "stdout"
        }
      ]
    },
    {
      "cell_type": "code",
      "metadata": {
        "id": "glbYpdNFeSge",
        "outputId": "26ddeb24-d2fa-4ea7-ed12-da56ff5efba1",
        "colab": {
          "base_uri": "https://localhost:8080/",
          "height": 203
        }
      },
      "source": [
        "for x in data.columns:\n",
        "  print(\"Total % Null value in \"+x+\" - \",data[x].isna().sum()/len(data)*100)\n",
        "  print()"
      ],
      "execution_count": null,
      "outputs": [
        {
          "output_type": "stream",
          "text": [
            "Total % Null value in InvoiceDate -  0.0007182205367980292\n",
            "\n",
            "Total % Null value in NetFare -  21.866583353084398\n",
            "\n",
            "Total % Null value in ProductType -  0.0007182205367980292\n",
            "\n",
            "Total % Null value in ItineraryType -  11.770557267314501\n",
            "\n",
            "Total % Null value in InvoiceTime -  0.0007182205367980292\n",
            "\n"
          ],
          "name": "stdout"
        }
      ]
    },
    {
      "cell_type": "markdown",
      "metadata": {
        "id": "wmUWYVqJs0_B"
      },
      "source": [
        "We all see all the NetFare value are changed from Object to Float without losing any single value"
      ]
    },
    {
      "cell_type": "code",
      "metadata": {
        "id": "jE9hdyqwjwQs",
        "outputId": "b457e22f-3d6a-4b91-80be-5fa83b362e5a",
        "colab": {
          "base_uri": "https://localhost:8080/",
          "height": 569
        }
      },
      "source": [
        "plt.figure(figsize=size)\n",
        "\n",
        "sns.lineplot(x='InvoiceDate',y='NetFare',data=data)\n",
        "\n",
        "plt.show()"
      ],
      "execution_count": null,
      "outputs": [
        {
          "output_type": "display_data",
          "data": {
            "image/png": "[encoded data removed]",
            "text/plain": [
              "<Figure size 1368x648 with 1 Axes>"
            ]
          },
          "metadata": {
            "tags": []
          }
        }
      ]
    },
    {
      "cell_type": "markdown",
      "metadata": {
        "id": "I_1LUAzSxLR7"
      },
      "source": [
        "As Per the rule we should remove the OUTLIERS First the then we will fill the Missing Value"
      ]
    },
    {
      "cell_type": "code",
      "metadata": {
        "id": "U3cxAv2OxUVr",
        "outputId": "d0790d13-d232-4641-93c7-918b395b8516",
        "colab": {
          "base_uri": "https://localhost:8080/",
          "height": 572
        }
      },
      "source": [
        "plt.figure(figsize=size)\n",
        "\n",
        "sns.boxplot(data['NetFare'])\n",
        "\n",
        "plt.show()"
      ],
      "execution_count": null,
      "outputs": [
        {
          "output_type": "display_data",
          "data": {
            "image/png": "[encoded data removed]",
            "text/plain": [
              "<Figure size 1368x648 with 1 Axes>"
            ]
          },
          "metadata": {
            "tags": []
          }
        }
      ]
    },
    {
      "cell_type": "markdown",
      "metadata": {
        "id": "h04PLo04Aya_"
      },
      "source": [
        "Now we will plot graph form -15k to +15k "
      ]
    },
    {
      "cell_type": "code",
      "metadata": {
        "id": "7bNflKjOxUNo",
        "colab": {
          "base_uri": "https://localhost:8080/",
          "height": 572
        },
        "outputId": "195903fd-c6f9-4af3-c4cf-c749fd764df6"
      },
      "source": [
        "x = data[(data['NetFare']<15000)&(data['NetFare']>-15000)]['NetFare']\n",
        "\n",
        "plt.figure(figsize=size)\n",
        "\n",
        "sns.boxplot(x)\n",
        "\n",
        "plt.show()"
      ],
      "execution_count": null,
      "outputs": [
        {
          "output_type": "display_data",
          "data": {
            "image/png": "[encoded data removed]",
            "text/plain": [
              "<Figure size 1368x648 with 1 Axes>"
            ]
          },
          "metadata": {
            "tags": []
          }
        }
      ]
    },
    {
      "cell_type": "code",
      "metadata": {
        "id": "ujFL2QZGB4Xa",
        "colab": {
          "base_uri": "https://localhost:8080/",
          "height": 186
        },
        "outputId": "1de10fc9-a750-4ea2-a5b7-61c0bad3a990"
      },
      "source": [
        "data['NetFare'].describe()"
      ],
      "execution_count": null,
      "outputs": [
        {
          "output_type": "execute_result",
          "data": {
            "text/plain": [
              "count    217575.000000\n",
              "mean       4266.724328\n",
              "std        9802.796727\n",
              "min     -497324.000000\n",
              "25%          10.000000\n",
              "50%        3501.000000\n",
              "75%        5944.000000\n",
              "max      497678.000000\n",
              "Name: NetFare, dtype: float64"
            ]
          },
          "metadata": {
            "tags": []
          },
          "execution_count": 20
        }
      ]
    },
    {
      "cell_type": "markdown",
      "metadata": {
        "id": "FeuAQXXd17VS"
      },
      "source": [
        "NetFare also have the negative value so we will eliminate the Negative value Because price of ticket can't be negative.\n",
        "\n",
        "And \n",
        "NetFare or NetRate -> is the price of a ticket minus any third party commission or tax."
      ]
    },
    {
      "cell_type": "code",
      "metadata": {
        "id": "tgZKqFOA2s9w",
        "colab": {
          "base_uri": "https://localhost:8080/",
          "height": 71
        },
        "outputId": "74b8ce6d-e226-4d8e-cd46-171fead75302"
      },
      "source": [
        "i = data[data['NetFare'] <0].index\n",
        "print(data.shape)\n",
        "data.drop(i,inplace=True)\n",
        "print(data.shape)"
      ],
      "execution_count": null,
      "outputs": [
        {
          "output_type": "stream",
          "text": [
            "(278466, 5)\n",
            "(266095, 5)\n"
          ],
          "name": "stdout"
        }
      ]
    },
    {
      "cell_type": "code",
      "metadata": {
        "id": "j4vSUYLJ16gk",
        "colab": {
          "base_uri": "https://localhost:8080/",
          "height": 54
        },
        "outputId": "28ef9d82-dc27-4078-a16e-e29a2ec4e51c"
      },
      "source": [
        "data.shape\n"
      ],
      "execution_count": null,
      "outputs": [
        {
          "output_type": "execute_result",
          "data": {
            "text/plain": [
              "(266095, 5)"
            ]
          },
          "metadata": {
            "tags": []
          },
          "execution_count": 22
        }
      ]
    },
    {
      "cell_type": "markdown",
      "metadata": {
        "id": "Yio_RCeECSmw"
      },
      "source": [
        "We all know that Fare for Domestic Flights are lower than International so we separate the Domestic and International Flight fare."
      ]
    },
    {
      "cell_type": "code",
      "metadata": {
        "id": "zN3gUCvlbROW",
        "colab": {
          "base_uri": "https://localhost:8080/",
          "height": 586
        },
        "outputId": "8f2afaf9-f996-4fc6-b83b-8b752e60281e"
      },
      "source": [
        "plt.figure(figsize=size)\n",
        "\n",
        "ax = sns.countplot(data['ItineraryType'])\n",
        "\n",
        "for x in ax.patches:\n",
        "  height= x.get_height()\n",
        "\n",
        "  ax.text(x.get_x()+x.get_width()/2,\n",
        "          height,\n",
        "          '{:.2f}'.format(height/DataTotalLen*100),\n",
        "          ha='center')\n",
        "\n",
        "plt.title('Domestic vs International')\n",
        "\n",
        "plt.show()"
      ],
      "execution_count": null,
      "outputs": [
        {
          "output_type": "display_data",
          "data": {
            "image/png": "[encoded data removed]",
            "text/plain": [
              "<Figure size 1368x648 with 1 Axes>"
            ]
          },
          "metadata": {
            "tags": []
          }
        }
      ]
    },
    {
      "cell_type": "markdown",
      "metadata": {
        "id": "u-eGtBjEC2VM"
      },
      "source": [
        "**Domestic Flight Fare**"
      ]
    },
    {
      "cell_type": "code",
      "metadata": {
        "id": "22Ug3zZNCRwt",
        "colab": {
          "base_uri": "https://localhost:8080/",
          "height": 587
        },
        "outputId": "8218e26c-d3e2-4788-96aa-2e5d08798cc4"
      },
      "source": [
        "DomFare = data[data['ItineraryType']=='Domestic']['NetFare']\n",
        "\n",
        "plt.figure(figsize=size)\n",
        "\n",
        "sns.boxplot(DomFare)\n",
        "\n",
        "plt.title('Domestic Flight Fare')\n",
        "\n",
        "plt.show()"
      ],
      "execution_count": null,
      "outputs": [
        {
          "output_type": "display_data",
          "data": {
            "image/png": "[encoded data removed]",
            "text/plain": [
              "<Figure size 1368x648 with 1 Axes>"
            ]
          },
          "metadata": {
            "tags": []
          }
        }
      ]
    },
    {
      "cell_type": "code",
      "metadata": {
        "id": "McqDL0JJC1Vi",
        "colab": {
          "base_uri": "https://localhost:8080/",
          "height": 186
        },
        "outputId": "8500a573-249b-45c2-9ad9-b4391ad4d071"
      },
      "source": [
        "DomFare.describe()"
      ],
      "execution_count": null,
      "outputs": [
        {
          "output_type": "execute_result",
          "data": {
            "text/plain": [
              "count    159033.000000\n",
              "mean       4707.570229\n",
              "std        3463.265478\n",
              "min           0.000000\n",
              "25%        2625.000000\n",
              "50%        4255.000000\n",
              "75%        6315.000000\n",
              "max       76800.000000\n",
              "Name: NetFare, dtype: float64"
            ]
          },
          "metadata": {
            "tags": []
          },
          "execution_count": 25
        }
      ]
    },
    {
      "cell_type": "code",
      "metadata": {
        "id": "MqaUulyIvC2X",
        "outputId": "df88b313-84f5-4e96-8b11-2f0d8dc3a6b7",
        "colab": {
          "base_uri": "https://localhost:8080/",
          "height": 601
        }
      },
      "source": [
        "plt.figure(figsize=size)\n",
        "\n",
        "ax = sns.countplot(data['ProductType'])\n",
        "\n",
        "for x in ax.patches:\n",
        "  height = x.get_height()\n",
        "\n",
        "  ax.text(x.get_x() + x.get_width()/2,\n",
        "          height+1,\n",
        "          '{:.2f}'.format(height/DataTotalLen*100),\n",
        "          ha='center')\n",
        "\n",
        "\n",
        "\n",
        "plt.xticks(rotation=15)\n",
        "\n",
        "plt.show()"
      ],
      "execution_count": null,
      "outputs": [
        {
          "output_type": "display_data",
          "data": {
            "image/png": "[encoded data removed]",
            "text/plain": [
              "<Figure size 1368x648 with 1 Axes>"
            ]
          },
          "metadata": {
            "tags": []
          }
        }
      ]
    },
    {
      "cell_type": "markdown",
      "metadata": {
        "id": "VHbK_hyRxESW"
      },
      "source": [
        "From above Graph we will can see only three variable are having good amount of data. So we remove all other variable except AIR, CHARGE and  PAYMENT.\n",
        "\n"
      ]
    },
    {
      "cell_type": "code",
      "metadata": {
        "id": "ugs65pBHvnuG"
      },
      "source": [
        "Prodcut_Fare = data[(data['ProductType']=='payment')|(data['ProductType']=='Charge')|(data['ProductType']=='Air')]"
      ],
      "execution_count": null,
      "outputs": []
    },
    {
      "cell_type": "code",
      "metadata": {
        "id": "FDvtXPpgENT_",
        "colab": {
          "base_uri": "https://localhost:8080/",
          "height": 313
        },
        "outputId": "3fd5f760-0961-45ef-c9aa-57b6384446bc"
      },
      "source": [
        "Prodcut_Fare.describe()"
      ],
      "execution_count": null,
      "outputs": [
        {
          "output_type": "execute_result",
          "data": {
            "text/html": [
              "<div>\n",
              "<style scoped>\n",
              "    .dataframe tbody tr th:only-of-type {\n",
              "        vertical-align: middle;\n",
              "    }\n",
              "\n",
              "    .dataframe tbody tr th {\n",
              "        vertical-align: top;\n",
              "    }\n",
              "\n",
              "    .dataframe thead th {\n",
              "        text-align: right;\n",
              "    }\n",
              "</style>\n",
              "<table border=\"1\" class=\"dataframe\">\n",
              "  <thead>\n",
              "    <tr style=\"text-align: right;\">\n",
              "      <th></th>\n",
              "      <th>NetFare</th>\n",
              "    </tr>\n",
              "  </thead>\n",
              "  <tbody>\n",
              "    <tr>\n",
              "      <th>count</th>\n",
              "      <td>178212.000000</td>\n",
              "    </tr>\n",
              "    <tr>\n",
              "      <th>mean</th>\n",
              "      <td>5269.366031</td>\n",
              "    </tr>\n",
              "    <tr>\n",
              "      <th>std</th>\n",
              "      <td>9630.826667</td>\n",
              "    </tr>\n",
              "    <tr>\n",
              "      <th>min</th>\n",
              "      <td>0.000000</td>\n",
              "    </tr>\n",
              "    <tr>\n",
              "      <th>25%</th>\n",
              "      <td>1991.000000</td>\n",
              "    </tr>\n",
              "    <tr>\n",
              "      <th>50%</th>\n",
              "      <td>4055.000000</td>\n",
              "    </tr>\n",
              "    <tr>\n",
              "      <th>75%</th>\n",
              "      <td>6374.000000</td>\n",
              "    </tr>\n",
              "    <tr>\n",
              "      <th>max</th>\n",
              "      <td>497678.000000</td>\n",
              "    </tr>\n",
              "  </tbody>\n",
              "</table>\n",
              "</div>"
            ],
            "text/plain": [
              "             NetFare\n",
              "count  178212.000000\n",
              "mean     5269.366031\n",
              "std      9630.826667\n",
              "min         0.000000\n",
              "25%      1991.000000\n",
              "50%      4055.000000\n",
              "75%      6374.000000\n",
              "max    497678.000000"
            ]
          },
          "metadata": {
            "tags": []
          },
          "execution_count": 28
        }
      ]
    },
    {
      "cell_type": "code",
      "metadata": {
        "id": "XW6Xmyh7lWOQ"
      },
      "source": [
        "# Prodcut_Fare = data[(data['ProductType']=='Air')]\n",
        "# Prodcut_Fare.describe()"
      ],
      "execution_count": null,
      "outputs": []
    },
    {
      "cell_type": "code",
      "metadata": {
        "id": "MHezXQgFliqo"
      },
      "source": [],
      "execution_count": null,
      "outputs": []
    },
    {
      "cell_type": "code",
      "metadata": {
        "id": "R1G80Enac6Jz",
        "colab": {
          "base_uri": "https://localhost:8080/",
          "height": 586
        },
        "outputId": "49b74f4a-f8f9-4e1c-d37a-c94798dd7132"
      },
      "source": [
        "plt.figure(figsize=size)\n",
        "\n",
        "ax = sns.countplot(Prodcut_Fare['ItineraryType'])\n",
        "\n",
        "total = len(Prodcut_Fare)\n",
        "for x in ax.patches:\n",
        "  height= x.get_height()\n",
        "\n",
        "  ax.text(x.get_x()+x.get_width()/2,\n",
        "          height,\n",
        "          '{:.2f}'.format(height/total*100),\n",
        "          ha='center')\n",
        "\n",
        "plt.title('Domestic vs International')\n",
        "\n",
        "plt.show()"
      ],
      "execution_count": null,
      "outputs": [
        {
          "output_type": "display_data",
          "data": {
            "image/png": "[encoded data removed]",
            "text/plain": [
              "<Figure size 1368x648 with 1 Axes>"
            ]
          },
          "metadata": {
            "tags": []
          }
        }
      ]
    },
    {
      "cell_type": "code",
      "metadata": {
        "id": "EUnkNlsKEPS0",
        "colab": {
          "base_uri": "https://localhost:8080/",
          "height": 313
        },
        "outputId": "9957b69c-8b67-4d83-8099-7eec028c6cc8"
      },
      "source": [
        "Domestic_Prodcut_Fare = Prodcut_Fare[Prodcut_Fare['ItineraryType']=='Domestic']\n",
        "\n",
        "Domestic_Prodcut_Fare.describe()"
      ],
      "execution_count": null,
      "outputs": [
        {
          "output_type": "execute_result",
          "data": {
            "text/html": [
              "<div>\n",
              "<style scoped>\n",
              "    .dataframe tbody tr th:only-of-type {\n",
              "        vertical-align: middle;\n",
              "    }\n",
              "\n",
              "    .dataframe tbody tr th {\n",
              "        vertical-align: top;\n",
              "    }\n",
              "\n",
              "    .dataframe thead th {\n",
              "        text-align: right;\n",
              "    }\n",
              "</style>\n",
              "<table border=\"1\" class=\"dataframe\">\n",
              "  <thead>\n",
              "    <tr style=\"text-align: right;\">\n",
              "      <th></th>\n",
              "      <th>NetFare</th>\n",
              "    </tr>\n",
              "  </thead>\n",
              "  <tbody>\n",
              "    <tr>\n",
              "      <th>count</th>\n",
              "      <td>135029.000000</td>\n",
              "    </tr>\n",
              "    <tr>\n",
              "      <th>mean</th>\n",
              "      <td>5159.113931</td>\n",
              "    </tr>\n",
              "    <tr>\n",
              "      <th>std</th>\n",
              "      <td>3021.969443</td>\n",
              "    </tr>\n",
              "    <tr>\n",
              "      <th>min</th>\n",
              "      <td>0.000000</td>\n",
              "    </tr>\n",
              "    <tr>\n",
              "      <th>25%</th>\n",
              "      <td>3181.000000</td>\n",
              "    </tr>\n",
              "    <tr>\n",
              "      <th>50%</th>\n",
              "      <td>4611.000000</td>\n",
              "    </tr>\n",
              "    <tr>\n",
              "      <th>75%</th>\n",
              "      <td>6571.000000</td>\n",
              "    </tr>\n",
              "    <tr>\n",
              "      <th>max</th>\n",
              "      <td>64131.000000</td>\n",
              "    </tr>\n",
              "  </tbody>\n",
              "</table>\n",
              "</div>"
            ],
            "text/plain": [
              "             NetFare\n",
              "count  135029.000000\n",
              "mean     5159.113931\n",
              "std      3021.969443\n",
              "min         0.000000\n",
              "25%      3181.000000\n",
              "50%      4611.000000\n",
              "75%      6571.000000\n",
              "max     64131.000000"
            ]
          },
          "metadata": {
            "tags": []
          },
          "execution_count": 31
        }
      ]
    },
    {
      "cell_type": "markdown",
      "metadata": {
        "id": "7VvmF8yaErQ5"
      },
      "source": [
        "We can clearly see there is drop in  Standard Deviation and also in the MAX value "
      ]
    },
    {
      "cell_type": "code",
      "metadata": {
        "id": "lc1RJ8WFEoQg",
        "colab": {
          "base_uri": "https://localhost:8080/",
          "height": 572
        },
        "outputId": "ab53d9db-4b09-48c6-9750-6a15afc2d4df"
      },
      "source": [
        "plt.figure(figsize=size)\n",
        "\n",
        "sns.boxplot(Domestic_Prodcut_Fare['NetFare'])\n",
        "\n",
        "plt.show()"
      ],
      "execution_count": null,
      "outputs": [
        {
          "output_type": "display_data",
          "data": {
            "image/png": "[encoded data removed]",
            "text/plain": [
              "<Figure size 1368x648 with 1 Axes>"
            ]
          },
          "metadata": {
            "tags": []
          }
        }
      ]
    },
    {
      "cell_type": "code",
      "metadata": {
        "id": "M0E2L0h_FEqu",
        "colab": {
          "base_uri": "https://localhost:8080/",
          "height": 587
        },
        "outputId": "e8f98284-cac8-49fc-8850-d6dc1162651a"
      },
      "source": [
        "x = Domestic_Prodcut_Fare[(Domestic_Prodcut_Fare['NetFare']<11050)]['NetFare']\n",
        "\n",
        "plt.figure(figsize=size)\n",
        "\n",
        "sns.boxplot(x)\n",
        "plt.title('Upto 11050')\n",
        "\n",
        "plt.show()"
      ],
      "execution_count": null,
      "outputs": [
        {
          "output_type": "display_data",
          "data": {
            "image/png": "[encoded data removed]",
            "text/plain": [
              "<Figure size 1368x648 with 1 Axes>"
            ]
          },
          "metadata": {
            "tags": []
          }
        }
      ]
    },
    {
      "cell_type": "markdown",
      "metadata": {
        "id": "O8yDjorAXGXf"
      },
      "source": [
        "Yes it seems to very obvious from domestic flight NETFARE the Max Price can be upto 11k \n"
      ]
    },
    {
      "cell_type": "markdown",
      "metadata": {
        "id": "mYWcdnxhXrwM"
      },
      "source": [
        "**International Flight**"
      ]
    },
    {
      "cell_type": "code",
      "metadata": {
        "id": "1EzJuBmnXFsj",
        "colab": {
          "base_uri": "https://localhost:8080/",
          "height": 313
        },
        "outputId": "cb85c9e5-c191-4de9-c1de-3622901caab0"
      },
      "source": [
        "International_Product_Fare = Prodcut_Fare[Prodcut_Fare['ItineraryType']=='International']\n",
        "\n",
        "International_Product_Fare.describe()"
      ],
      "execution_count": null,
      "outputs": [
        {
          "output_type": "execute_result",
          "data": {
            "text/html": [
              "<div>\n",
              "<style scoped>\n",
              "    .dataframe tbody tr th:only-of-type {\n",
              "        vertical-align: middle;\n",
              "    }\n",
              "\n",
              "    .dataframe tbody tr th {\n",
              "        vertical-align: top;\n",
              "    }\n",
              "\n",
              "    .dataframe thead th {\n",
              "        text-align: right;\n",
              "    }\n",
              "</style>\n",
              "<table border=\"1\" class=\"dataframe\">\n",
              "  <thead>\n",
              "    <tr style=\"text-align: right;\">\n",
              "      <th></th>\n",
              "      <th>NetFare</th>\n",
              "    </tr>\n",
              "  </thead>\n",
              "  <tbody>\n",
              "    <tr>\n",
              "      <th>count</th>\n",
              "      <td>10408.000000</td>\n",
              "    </tr>\n",
              "    <tr>\n",
              "      <th>mean</th>\n",
              "      <td>23293.069193</td>\n",
              "    </tr>\n",
              "    <tr>\n",
              "      <th>std</th>\n",
              "      <td>32516.707915</td>\n",
              "    </tr>\n",
              "    <tr>\n",
              "      <th>min</th>\n",
              "      <td>0.000000</td>\n",
              "    </tr>\n",
              "    <tr>\n",
              "      <th>25%</th>\n",
              "      <td>7130.000000</td>\n",
              "    </tr>\n",
              "    <tr>\n",
              "      <th>50%</th>\n",
              "      <td>14996.000000</td>\n",
              "    </tr>\n",
              "    <tr>\n",
              "      <th>75%</th>\n",
              "      <td>27285.250000</td>\n",
              "    </tr>\n",
              "    <tr>\n",
              "      <th>max</th>\n",
              "      <td>497678.000000</td>\n",
              "    </tr>\n",
              "  </tbody>\n",
              "</table>\n",
              "</div>"
            ],
            "text/plain": [
              "             NetFare\n",
              "count   10408.000000\n",
              "mean    23293.069193\n",
              "std     32516.707915\n",
              "min         0.000000\n",
              "25%      7130.000000\n",
              "50%     14996.000000\n",
              "75%     27285.250000\n",
              "max    497678.000000"
            ]
          },
          "metadata": {
            "tags": []
          },
          "execution_count": 34
        }
      ]
    },
    {
      "cell_type": "code",
      "metadata": {
        "id": "J-NjEBbvW5lW",
        "colab": {
          "base_uri": "https://localhost:8080/",
          "height": 572
        },
        "outputId": "054d271f-344d-422b-d3b5-86ce183c9423"
      },
      "source": [
        "plt.figure(figsize=size)\n",
        "\n",
        "sns.boxplot(International_Product_Fare['NetFare'])\n",
        "\n",
        "plt.show()"
      ],
      "execution_count": null,
      "outputs": [
        {
          "output_type": "display_data",
          "data": {
            "image/png": "[encoded data removed]",
            "text/plain": [
              "<Figure size 1368x648 with 1 Axes>"
            ]
          },
          "metadata": {
            "tags": []
          }
        }
      ]
    },
    {
      "cell_type": "code",
      "metadata": {
        "id": "8dMpd0TwW5jP",
        "colab": {
          "base_uri": "https://localhost:8080/",
          "height": 587
        },
        "outputId": "8b340ff2-46c4-4b3f-8478-5abf2adf113a"
      },
      "source": [
        "x = International_Product_Fare[(International_Product_Fare['NetFare']<100000)]['NetFare']\n",
        "\n",
        "plt.figure(figsize=size)\n",
        "\n",
        "sns.boxplot(x)\n",
        "\n",
        "plt.title('100k')\n",
        "\n",
        "plt.show()"
      ],
      "execution_count": null,
      "outputs": [
        {
          "output_type": "display_data",
          "data": {
            "image/png": "[encoded data removed]",
            "text/plain": [
              "<Figure size 1368x648 with 1 Axes>"
            ]
          },
          "metadata": {
            "tags": []
          }
        }
      ]
    },
    {
      "cell_type": "code",
      "metadata": {
        "id": "979jCCKnW5bU",
        "colab": {
          "base_uri": "https://localhost:8080/",
          "height": 587
        },
        "outputId": "c0ae925d-74c5-485c-9c5e-c1a90fa24f11"
      },
      "source": [
        "x = International_Product_Fare[(International_Product_Fare['NetFare']<60000)]['NetFare']\n",
        "\n",
        "plt.figure(figsize=size)\n",
        "\n",
        "sns.boxplot(x)\n",
        "\n",
        "plt.title('Upto 60k')\n",
        "\n",
        "plt.show()"
      ],
      "execution_count": null,
      "outputs": [
        {
          "output_type": "display_data",
          "data": {
            "image/png": "[encoded data removed]",
            "text/plain": [
              "<Figure size 1368x648 with 1 Axes>"
            ]
          },
          "metadata": {
            "tags": []
          }
        }
      ]
    },
    {
      "cell_type": "code",
      "metadata": {
        "id": "No5HbsFZW5Zo",
        "colab": {
          "base_uri": "https://localhost:8080/",
          "height": 587
        },
        "outputId": "0d7a95ff-f99e-47e2-9d92-8fc56c54c0b8"
      },
      "source": [
        "x = International_Product_Fare[(International_Product_Fare['NetFare']<44000)]['NetFare']\n",
        "\n",
        "plt.figure(figsize=size)\n",
        "\n",
        "sns.boxplot(x)\n",
        "\n",
        "plt.title('Upto 44k')\n",
        "\n",
        "plt.show()"
      ],
      "execution_count": null,
      "outputs": [
        {
          "output_type": "display_data",
          "data": {
            "image/png": "[encoded data removed]",
            "text/plain": [
              "<Figure size 1368x648 with 1 Axes>"
            ]
          },
          "metadata": {
            "tags": []
          }
        }
      ]
    },
    {
      "cell_type": "markdown",
      "metadata": {
        "id": "Y5nBLXzoWtJw"
      },
      "source": [
        "We will use Smoothing technique to romove the outliers from Domestic and Interantional separately"
      ]
    },
    {
      "cell_type": "markdown",
      "metadata": {
        "id": "9sOjMsJ9hAj_"
      },
      "source": [
        "**Domestic Smoothing**"
      ]
    },
    {
      "cell_type": "code",
      "metadata": {
        "id": "hK1EnXZ5Hd28"
      },
      "source": [
        "DomAlpha1 = Domestic_Prodcut_Fare['NetFare'].ewm(alpha=0.1).mean()\n",
        "DomAlpha3 = Domestic_Prodcut_Fare['NetFare'].ewm(alpha=0.3).mean()\n",
        "DomAlpha6 = Domestic_Prodcut_Fare['NetFare'].ewm(alpha=0.6).mean()\n",
        "DomAlpha9 = Domestic_Prodcut_Fare['NetFare'].ewm(alpha=0.9).mean()\n",
        "DomAlpha1 = Domestic_Prodcut_Fare['NetFare'].ewm(alpha=1).mean()"
      ],
      "execution_count": null,
      "outputs": []
    },
    {
      "cell_type": "code",
      "metadata": {
        "id": "LpNAKrdindEL",
        "outputId": "5788bb64-f936-4116-922c-39d3526a5156",
        "colab": {
          "base_uri": "https://localhost:8080/",
          "height": 913
        }
      },
      "source": [
        "print(DomAlpha1.describe())\n",
        "print()\n",
        "print()\n",
        "print(DomAlpha3.describe())\n",
        "print()\n",
        "print()\n",
        "print(DomAlpha6.describe())\n",
        "print()\n",
        "print()\n",
        "print(DomAlpha9.describe())\n",
        "print()\n",
        "print()\n",
        "print(DomAlpha1.describe())"
      ],
      "execution_count": null,
      "outputs": [
        {
          "output_type": "stream",
          "text": [
            "count    184886.000000\n",
            "mean       5061.822922\n",
            "std        2946.466403\n",
            "min           0.000000\n",
            "25%        3144.000000\n",
            "50%        4471.000000\n",
            "75%        6435.000000\n",
            "max       64131.000000\n",
            "Name: NetFare, dtype: float64\n",
            "\n",
            "\n",
            "count    184886.000000\n",
            "mean       5045.203179\n",
            "std        1925.301438\n",
            "min          64.856996\n",
            "25%        3752.534266\n",
            "50%        4783.266447\n",
            "75%        6056.502725\n",
            "max       28957.913118\n",
            "Name: NetFare, dtype: float64\n",
            "\n",
            "\n",
            "count    184886.000000\n",
            "mean       5056.623911\n",
            "std        2446.666541\n",
            "min           0.026279\n",
            "25%        3440.439777\n",
            "50%        4653.954463\n",
            "75%        6257.548573\n",
            "max       43939.099698\n",
            "Name: NetFare, dtype: float64\n",
            "\n",
            "\n",
            "count    1.848860e+05\n",
            "mean     5.061088e+03\n",
            "std      2.821226e+03\n",
            "min      3.094751e-10\n",
            "25%      3.217115e+03\n",
            "50%      4.520240e+03\n",
            "75%      6.392102e+03\n",
            "max      5.804934e+04\n",
            "Name: NetFare, dtype: float64\n",
            "\n",
            "\n",
            "count    184886.000000\n",
            "mean       5061.822922\n",
            "std        2946.466403\n",
            "min           0.000000\n",
            "25%        3144.000000\n",
            "50%        4471.000000\n",
            "75%        6435.000000\n",
            "max       64131.000000\n",
            "Name: NetFare, dtype: float64\n"
          ],
          "name": "stdout"
        }
      ]
    },
    {
      "cell_type": "markdown",
      "metadata": {
        "id": "MEQc5xTJuX06"
      },
      "source": [
        "We can see that Mean value is not getting changing change and also the 75% value \n",
        "\n",
        "So we will use the 75% as threshold value and value the above it we will eliminate it."
      ]
    },
    {
      "cell_type": "code",
      "metadata": {
        "id": "KXX5koRNKDFV"
      },
      "source": [],
      "execution_count": null,
      "outputs": []
    },
    {
      "cell_type": "markdown",
      "metadata": {
        "id": "Tw5oH3OWKER-"
      },
      "source": [
        "We use threshold Value for removing the Outliers,\n",
        "\n",
        "Separately for Domestic and International"
      ]
    },
    {
      "cell_type": "code",
      "metadata": {
        "id": "BX6AX6FEnk4p",
        "colab": {
          "base_uri": "https://localhost:8080/",
          "height": 120
        },
        "outputId": "f2ef3195-0dce-4d18-bd23-5e1aba415b5e"
      },
      "source": [
        "i = Prodcut_Fare[(Prodcut_Fare['NetFare']>11050)&(Prodcut_Fare['ItineraryType']=='Domestic')].index\n",
        "\n",
        "Prodcut_Fare.drop(i,inplace=True)"
      ],
      "execution_count": null,
      "outputs": [
        {
          "output_type": "stream",
          "text": [
            "/usr/local/lib/python3.6/dist-packages/pandas/core/frame.py:3997: SettingWithCopyWarning: \n",
            "A value is trying to be set on a copy of a slice from a DataFrame\n",
            "\n",
            "See the caveats in the documentation: https://pandas.pydata.org/pandas-docs/stable/user_guide/indexing.html#returning-a-view-versus-a-copy\n",
            "  errors=errors,\n"
          ],
          "name": "stderr"
        }
      ]
    },
    {
      "cell_type": "code",
      "metadata": {
        "id": "E8iNLvtMLYhz",
        "colab": {
          "base_uri": "https://localhost:8080/",
          "height": 120
        },
        "outputId": "6b9c12b4-4303-40be-bfe3-3ba0fb665fce"
      },
      "source": [
        "i = Prodcut_Fare[(Prodcut_Fare['NetFare']>44000)&(Prodcut_Fare['ItineraryType']=='International')].index\n",
        "\n",
        "Prodcut_Fare.drop(i,inplace=True)"
      ],
      "execution_count": null,
      "outputs": [
        {
          "output_type": "stream",
          "text": [
            "/usr/local/lib/python3.6/dist-packages/pandas/core/frame.py:3997: SettingWithCopyWarning: \n",
            "A value is trying to be set on a copy of a slice from a DataFrame\n",
            "\n",
            "See the caveats in the documentation: https://pandas.pydata.org/pandas-docs/stable/user_guide/indexing.html#returning-a-view-versus-a-copy\n",
            "  errors=errors,\n"
          ],
          "name": "stderr"
        }
      ]
    },
    {
      "cell_type": "code",
      "metadata": {
        "id": "kYEj1G30Lj6d",
        "colab": {
          "base_uri": "https://localhost:8080/",
          "height": 236
        },
        "outputId": "c05af5d6-3a50-4d57-b5d2-d329ee2bfe62"
      },
      "source": [
        "Prodcut_Fare.info()"
      ],
      "execution_count": null,
      "outputs": [
        {
          "output_type": "stream",
          "text": [
            "<class 'pandas.core.frame.DataFrame'>\n",
            "Int64Index: 227296 entries, 2 to 278465\n",
            "Data columns (total 5 columns):\n",
            " #   Column         Non-Null Count   Dtype  \n",
            "---  ------         --------------   -----  \n",
            " 0   InvoiceDate    227296 non-null  object \n",
            " 1   NetFare        171902 non-null  float64\n",
            " 2   ProductType    227296 non-null  object \n",
            " 3   ItineraryType  194521 non-null  object \n",
            " 4   InvoiceTime    227296 non-null  object \n",
            "dtypes: float64(1), object(4)\n",
            "memory usage: 10.4+ MB\n"
          ],
          "name": "stdout"
        }
      ]
    },
    {
      "cell_type": "code",
      "metadata": {
        "id": "tifQd6zsMSc0",
        "colab": {
          "base_uri": "https://localhost:8080/",
          "height": 313
        },
        "outputId": "f93fd601-0e20-4ccd-fbbb-0d90e969646d"
      },
      "source": [
        "Prodcut_Fare.describe()"
      ],
      "execution_count": null,
      "outputs": [
        {
          "output_type": "execute_result",
          "data": {
            "text/html": [
              "<div>\n",
              "<style scoped>\n",
              "    .dataframe tbody tr th:only-of-type {\n",
              "        vertical-align: middle;\n",
              "    }\n",
              "\n",
              "    .dataframe tbody tr th {\n",
              "        vertical-align: top;\n",
              "    }\n",
              "\n",
              "    .dataframe thead th {\n",
              "        text-align: right;\n",
              "    }\n",
              "</style>\n",
              "<table border=\"1\" class=\"dataframe\">\n",
              "  <thead>\n",
              "    <tr style=\"text-align: right;\">\n",
              "      <th></th>\n",
              "      <th>NetFare</th>\n",
              "    </tr>\n",
              "  </thead>\n",
              "  <tbody>\n",
              "    <tr>\n",
              "      <th>count</th>\n",
              "      <td>171902.000000</td>\n",
              "    </tr>\n",
              "    <tr>\n",
              "      <th>mean</th>\n",
              "      <td>4410.347288</td>\n",
              "    </tr>\n",
              "    <tr>\n",
              "      <th>std</th>\n",
              "      <td>4403.561738</td>\n",
              "    </tr>\n",
              "    <tr>\n",
              "      <th>min</th>\n",
              "      <td>0.000000</td>\n",
              "    </tr>\n",
              "    <tr>\n",
              "      <th>25%</th>\n",
              "      <td>1878.000000</td>\n",
              "    </tr>\n",
              "    <tr>\n",
              "      <th>50%</th>\n",
              "      <td>3929.000000</td>\n",
              "    </tr>\n",
              "    <tr>\n",
              "      <th>75%</th>\n",
              "      <td>6052.000000</td>\n",
              "    </tr>\n",
              "    <tr>\n",
              "      <th>max</th>\n",
              "      <td>44000.000000</td>\n",
              "    </tr>\n",
              "  </tbody>\n",
              "</table>\n",
              "</div>"
            ],
            "text/plain": [
              "             NetFare\n",
              "count  171902.000000\n",
              "mean     4410.347288\n",
              "std      4403.561738\n",
              "min         0.000000\n",
              "25%      1878.000000\n",
              "50%      3929.000000\n",
              "75%      6052.000000\n",
              "max     44000.000000"
            ]
          },
          "metadata": {
            "tags": []
          },
          "execution_count": 44
        }
      ]
    },
    {
      "cell_type": "code",
      "metadata": {
        "id": "9C05wy7nMV5e"
      },
      "source": [
        "Prodcut_Fare.to_csv('/content/drive/My Drive/ColabDataset/WithoutOutliersFlightFare.csv',index=False)"
      ],
      "execution_count": null,
      "outputs": []
    },
    {
      "cell_type": "code",
      "metadata": {
        "id": "dmsIgjVNNHtq"
      },
      "source": [
        "data2=pd.read_csv('/content/drive/My Drive/ColabDataset/WithoutOutliersFlightFare.csv')"
      ],
      "execution_count": null,
      "outputs": []
    },
    {
      "cell_type": "code",
      "metadata": {
        "id": "V-TyVqOMNNvZ",
        "colab": {
          "base_uri": "https://localhost:8080/",
          "height": 221
        },
        "outputId": "2955b4cc-bbdf-4f36-9177-6452339715fb"
      },
      "source": [
        "data2.head()"
      ],
      "execution_count": null,
      "outputs": [
        {
          "output_type": "execute_result",
          "data": {
            "text/html": [
              "<div>\n",
              "<style scoped>\n",
              "    .dataframe tbody tr th:only-of-type {\n",
              "        vertical-align: middle;\n",
              "    }\n",
              "\n",
              "    .dataframe tbody tr th {\n",
              "        vertical-align: top;\n",
              "    }\n",
              "\n",
              "    .dataframe thead th {\n",
              "        text-align: right;\n",
              "    }\n",
              "</style>\n",
              "<table border=\"1\" class=\"dataframe\">\n",
              "  <thead>\n",
              "    <tr style=\"text-align: right;\">\n",
              "      <th></th>\n",
              "      <th>InvoiceDate</th>\n",
              "      <th>NetFare</th>\n",
              "      <th>ProductType</th>\n",
              "      <th>ItineraryType</th>\n",
              "      <th>InvoiceTime</th>\n",
              "    </tr>\n",
              "  </thead>\n",
              "  <tbody>\n",
              "    <tr>\n",
              "      <th>0</th>\n",
              "      <td>2018-01-12</td>\n",
              "      <td>6550.0</td>\n",
              "      <td>Air</td>\n",
              "      <td>Domestic</td>\n",
              "      <td>13:01:00</td>\n",
              "    </tr>\n",
              "    <tr>\n",
              "      <th>1</th>\n",
              "      <td>2018-01-12</td>\n",
              "      <td>6550.0</td>\n",
              "      <td>Air</td>\n",
              "      <td>Domestic</td>\n",
              "      <td>13:10:00</td>\n",
              "    </tr>\n",
              "    <tr>\n",
              "      <th>2</th>\n",
              "      <td>2018-11-30</td>\n",
              "      <td>5497.0</td>\n",
              "      <td>Air</td>\n",
              "      <td>Domestic</td>\n",
              "      <td>14:30:00</td>\n",
              "    </tr>\n",
              "    <tr>\n",
              "      <th>3</th>\n",
              "      <td>2018-01-12</td>\n",
              "      <td>4818.0</td>\n",
              "      <td>Air</td>\n",
              "      <td>Domestic</td>\n",
              "      <td>14:09:00</td>\n",
              "    </tr>\n",
              "    <tr>\n",
              "      <th>4</th>\n",
              "      <td>2018-11-30</td>\n",
              "      <td>1768.0</td>\n",
              "      <td>Air</td>\n",
              "      <td>Domestic</td>\n",
              "      <td>14:30:00</td>\n",
              "    </tr>\n",
              "  </tbody>\n",
              "</table>\n",
              "</div>"
            ],
            "text/plain": [
              "  InvoiceDate  NetFare ProductType ItineraryType InvoiceTime\n",
              "0  2018-01-12   6550.0         Air      Domestic    13:01:00\n",
              "1  2018-01-12   6550.0         Air      Domestic    13:10:00\n",
              "2  2018-11-30   5497.0         Air      Domestic    14:30:00\n",
              "3  2018-01-12   4818.0         Air      Domestic    14:09:00\n",
              "4  2018-11-30   1768.0         Air      Domestic    14:30:00"
            ]
          },
          "metadata": {
            "tags": []
          },
          "execution_count": 47
        }
      ]
    },
    {
      "cell_type": "code",
      "metadata": {
        "id": "KeegZnDxNOt3",
        "colab": {
          "base_uri": "https://localhost:8080/",
          "height": 104
        },
        "outputId": "3a0e621f-134e-4f22-f738-6d6e16cc9ce1"
      },
      "source": [
        "data2['ProductType'].value_counts()"
      ],
      "execution_count": null,
      "outputs": [
        {
          "output_type": "execute_result",
          "data": {
            "text/plain": [
              "Air        139127\n",
              "payment     55394\n",
              "Charge      32775\n",
              "Name: ProductType, dtype: int64"
            ]
          },
          "metadata": {
            "tags": []
          },
          "execution_count": 48
        }
      ]
    },
    {
      "cell_type": "code",
      "metadata": {
        "id": "NHI1NkfuNZNk",
        "colab": {
          "base_uri": "https://localhost:8080/",
          "height": 87
        },
        "outputId": "78929b15-4109-423b-936f-136b0cd2090e"
      },
      "source": [
        "data2['ItineraryType'].value_counts()"
      ],
      "execution_count": null,
      "outputs": [
        {
          "output_type": "execute_result",
          "data": {
            "text/plain": [
              "Domestic         179860\n",
              "International     14661\n",
              "Name: ItineraryType, dtype: int64"
            ]
          },
          "metadata": {
            "tags": []
          },
          "execution_count": 49
        }
      ]
    },
    {
      "cell_type": "code",
      "metadata": {
        "id": "hFB0ZMIVNd7L"
      },
      "source": [],
      "execution_count": null,
      "outputs": []
    }
  ]
}