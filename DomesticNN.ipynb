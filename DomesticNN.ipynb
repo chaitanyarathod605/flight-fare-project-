{
  "nbformat": 4,
  "nbformat_minor": 0,
  "metadata": {
    "colab": {
      "provenance": []
    },
    "kernelspec": {
      "name": "python3",
      "display_name": "Python 3"
    }
  },
  "cells": [
    {
      "cell_type": "code",
      "metadata": {
        "id": "dUBw2gH75Yib"
      },
      "source": [
        "import pandas as pd\n",
        "import numpy as np\n",
        "import matplotlib.pyplot as plt\n",
        "import seaborn as sns\n",
        " \n",
        "from sklearn.metrics import mean_squared_error\n",
        "from sklearn.preprocessing import MinMaxScaler\n",
        " \n",
        "from keras.layers import LSTM,Dense\n",
        "from keras.models import Sequential\n",
        "from keras.preprocessing.sequence import TimeseriesGenerator\n",
        "from keras.callbacks import EarlyStopping\n",
        " \n",
        "import warnings \n",
        "warnings.filterwarnings('ignore')\n",
        " \n",
        "%matplotlib inline"
      ],
      "execution_count": null,
      "outputs": []
    },
    {
      "cell_type": "code",
      "metadata": {
        "id": "ieecklyd7ATc"
      },
      "source": [
        "data = pd.read_csv(\"/content/drive/My Drive/ColabDataset/FilledTimeSeriesDomesticFlightFare.csv\",index_col='InvoiceDate')"
      ],
      "execution_count": null,
      "outputs": []
    },
    {
      "cell_type": "code",
      "metadata": {
        "id": "Epc8deFP7FEG",
        "outputId": "48211202-8c3f-4d0a-a16d-4612160029f9",
        "colab": {
          "base_uri": "https://localhost:8080/",
          "height": 405
        }
      },
      "source": [
        "data.head(10)"
      ],
      "execution_count": null,
      "outputs": [
        {
          "output_type": "execute_result",
          "data": {
            "text/html": [
              "<div>\n",
              "<style scoped>\n",
              "    .dataframe tbody tr th:only-of-type {\n",
              "        vertical-align: middle;\n",
              "    }\n",
              "\n",
              "    .dataframe tbody tr th {\n",
              "        vertical-align: top;\n",
              "    }\n",
              "\n",
              "    .dataframe thead th {\n",
              "        text-align: right;\n",
              "    }\n",
              "</style>\n",
              "<table border=\"1\" class=\"dataframe\">\n",
              "  <thead>\n",
              "    <tr style=\"text-align: right;\">\n",
              "      <th></th>\n",
              "      <th>NetFare</th>\n",
              "      <th>AvgNetFare</th>\n",
              "    </tr>\n",
              "    <tr>\n",
              "      <th>InvoiceDate</th>\n",
              "      <th></th>\n",
              "      <th></th>\n",
              "    </tr>\n",
              "  </thead>\n",
              "  <tbody>\n",
              "    <tr>\n",
              "      <th>2018-01-04</th>\n",
              "      <td>146476</td>\n",
              "      <td>5231</td>\n",
              "    </tr>\n",
              "    <tr>\n",
              "      <th>2018-01-05</th>\n",
              "      <td>392004</td>\n",
              "      <td>6533</td>\n",
              "    </tr>\n",
              "    <tr>\n",
              "      <th>2018-01-06</th>\n",
              "      <td>621343</td>\n",
              "      <td>5861</td>\n",
              "    </tr>\n",
              "    <tr>\n",
              "      <th>2018-01-07</th>\n",
              "      <td>212856</td>\n",
              "      <td>3734</td>\n",
              "    </tr>\n",
              "    <tr>\n",
              "      <th>2018-01-08</th>\n",
              "      <td>1191582</td>\n",
              "      <td>4225</td>\n",
              "    </tr>\n",
              "    <tr>\n",
              "      <th>2018-01-09</th>\n",
              "      <td>1056218</td>\n",
              "      <td>4419</td>\n",
              "    </tr>\n",
              "    <tr>\n",
              "      <th>2018-01-10</th>\n",
              "      <td>1854520</td>\n",
              "      <td>4468</td>\n",
              "    </tr>\n",
              "    <tr>\n",
              "      <th>2018-01-11</th>\n",
              "      <td>1216242</td>\n",
              "      <td>5311</td>\n",
              "    </tr>\n",
              "    <tr>\n",
              "      <th>2018-01-12</th>\n",
              "      <td>1438677</td>\n",
              "      <td>5193</td>\n",
              "    </tr>\n",
              "    <tr>\n",
              "      <th>2018-01-13</th>\n",
              "      <td>1438677</td>\n",
              "      <td>5193</td>\n",
              "    </tr>\n",
              "  </tbody>\n",
              "</table>\n",
              "</div>"
            ],
            "text/plain": [
              "             NetFare  AvgNetFare\n",
              "InvoiceDate                     \n",
              "2018-01-04    146476        5231\n",
              "2018-01-05    392004        6533\n",
              "2018-01-06    621343        5861\n",
              "2018-01-07    212856        3734\n",
              "2018-01-08   1191582        4225\n",
              "2018-01-09   1056218        4419\n",
              "2018-01-10   1854520        4468\n",
              "2018-01-11   1216242        5311\n",
              "2018-01-12   1438677        5193\n",
              "2018-01-13   1438677        5193"
            ]
          },
          "metadata": {
            "tags": []
          },
          "execution_count": 4
        }
      ]
    },
    {
      "cell_type": "code",
      "metadata": {
        "id": "arSdg1HJ7IRD",
        "outputId": "0dab501e-fa4c-40ac-b8f5-c036f22b577e",
        "colab": {
          "base_uri": "https://localhost:8080/",
          "height": 405
        }
      },
      "source": [
        "data.tail(10)"
      ],
      "execution_count": null,
      "outputs": [
        {
          "output_type": "execute_result",
          "data": {
            "text/html": [
              "<div>\n",
              "<style scoped>\n",
              "    .dataframe tbody tr th:only-of-type {\n",
              "        vertical-align: middle;\n",
              "    }\n",
              "\n",
              "    .dataframe tbody tr th {\n",
              "        vertical-align: top;\n",
              "    }\n",
              "\n",
              "    .dataframe thead th {\n",
              "        text-align: right;\n",
              "    }\n",
              "</style>\n",
              "<table border=\"1\" class=\"dataframe\">\n",
              "  <thead>\n",
              "    <tr style=\"text-align: right;\">\n",
              "      <th></th>\n",
              "      <th>NetFare</th>\n",
              "      <th>AvgNetFare</th>\n",
              "    </tr>\n",
              "    <tr>\n",
              "      <th>InvoiceDate</th>\n",
              "      <th></th>\n",
              "      <th></th>\n",
              "    </tr>\n",
              "  </thead>\n",
              "  <tbody>\n",
              "    <tr>\n",
              "      <th>2019-11-26</th>\n",
              "      <td>2565004</td>\n",
              "      <td>4392</td>\n",
              "    </tr>\n",
              "    <tr>\n",
              "      <th>2019-11-27</th>\n",
              "      <td>2565004</td>\n",
              "      <td>4392</td>\n",
              "    </tr>\n",
              "    <tr>\n",
              "      <th>2019-11-28</th>\n",
              "      <td>2565004</td>\n",
              "      <td>4392</td>\n",
              "    </tr>\n",
              "    <tr>\n",
              "      <th>2019-11-29</th>\n",
              "      <td>2565004</td>\n",
              "      <td>4392</td>\n",
              "    </tr>\n",
              "    <tr>\n",
              "      <th>2019-11-30</th>\n",
              "      <td>2565004</td>\n",
              "      <td>4392</td>\n",
              "    </tr>\n",
              "    <tr>\n",
              "      <th>2019-12-01</th>\n",
              "      <td>1350447</td>\n",
              "      <td>4273</td>\n",
              "    </tr>\n",
              "    <tr>\n",
              "      <th>2019-12-02</th>\n",
              "      <td>3433497</td>\n",
              "      <td>4742</td>\n",
              "    </tr>\n",
              "    <tr>\n",
              "      <th>2019-12-03</th>\n",
              "      <td>2336595</td>\n",
              "      <td>4645</td>\n",
              "    </tr>\n",
              "    <tr>\n",
              "      <th>2019-12-04</th>\n",
              "      <td>675411</td>\n",
              "      <td>6196</td>\n",
              "    </tr>\n",
              "    <tr>\n",
              "      <th>2019-12-05</th>\n",
              "      <td>1378155</td>\n",
              "      <td>4640</td>\n",
              "    </tr>\n",
              "  </tbody>\n",
              "</table>\n",
              "</div>"
            ],
            "text/plain": [
              "             NetFare  AvgNetFare\n",
              "InvoiceDate                     \n",
              "2019-11-26   2565004        4392\n",
              "2019-11-27   2565004        4392\n",
              "2019-11-28   2565004        4392\n",
              "2019-11-29   2565004        4392\n",
              "2019-11-30   2565004        4392\n",
              "2019-12-01   1350447        4273\n",
              "2019-12-02   3433497        4742\n",
              "2019-12-03   2336595        4645\n",
              "2019-12-04    675411        6196\n",
              "2019-12-05   1378155        4640"
            ]
          },
          "metadata": {
            "tags": []
          },
          "execution_count": 5
        }
      ]
    },
    {
      "cell_type": "code",
      "metadata": {
        "id": "eXQDQ2zF7JiW",
        "outputId": "077a37c4-1e98-4fed-ad48-3e239e6088bd",
        "colab": {
          "base_uri": "https://localhost:8080/",
          "height": 54
        }
      },
      "source": [
        "701*0.9"
      ],
      "execution_count": null,
      "outputs": [
        {
          "output_type": "execute_result",
          "data": {
            "text/plain": [
              "630.9"
            ]
          },
          "metadata": {
            "tags": []
          },
          "execution_count": 6
        }
      ]
    },
    {
      "cell_type": "code",
      "metadata": {
        "id": "3kvJEH87-0rP"
      },
      "source": [
        "data =np.log(data)"
      ],
      "execution_count": null,
      "outputs": []
    },
    {
      "cell_type": "code",
      "metadata": {
        "id": "Y9mSxgtr7W6j"
      },
      "source": [
        "xTrain,xTest = data['AvgNetFare'][:600],data['AvgNetFare'][600:]"
      ],
      "execution_count": null,
      "outputs": []
    },
    {
      "cell_type": "code",
      "metadata": {
        "id": "ODyL6WfA93uu",
        "outputId": "50939375-eabc-415d-bd98-22cf8183f4ac",
        "colab": {
          "base_uri": "https://localhost:8080/",
          "height": 54
        }
      },
      "source": [
        "xTest.shape"
      ],
      "execution_count": null,
      "outputs": [
        {
          "output_type": "execute_result",
          "data": {
            "text/plain": [
              "(101,)"
            ]
          },
          "metadata": {
            "tags": []
          },
          "execution_count": 72
        }
      ]
    },
    {
      "cell_type": "code",
      "metadata": {
        "id": "2lsP3qYd7hOP",
        "outputId": "b8c49a34-870d-4b96-b6bb-8c72927dbe1b",
        "colab": {
          "base_uri": "https://localhost:8080/",
          "height": 54
        }
      },
      "source": [
        "xTrain.shape"
      ],
      "execution_count": null,
      "outputs": [
        {
          "output_type": "execute_result",
          "data": {
            "text/plain": [
              "(600,)"
            ]
          },
          "metadata": {
            "tags": []
          },
          "execution_count": 73
        }
      ]
    },
    {
      "cell_type": "code",
      "metadata": {
        "id": "5VFSpaln8Mqa"
      },
      "source": [
        "xTrain = np.array(xTrain).reshape(-1,1)\n",
        "xTest = np.array(xTest).reshape(-1,1)"
      ],
      "execution_count": null,
      "outputs": []
    },
    {
      "cell_type": "code",
      "metadata": {
        "id": "jbDmnGjn9zN3",
        "outputId": "8f8c7952-7ccb-431d-aad9-5e89b2df6e91",
        "colab": {
          "base_uri": "https://localhost:8080/",
          "height": 54
        }
      },
      "source": [
        "xTest.shape"
      ],
      "execution_count": null,
      "outputs": [
        {
          "output_type": "execute_result",
          "data": {
            "text/plain": [
              "(101, 1)"
            ]
          },
          "metadata": {
            "tags": []
          },
          "execution_count": 75
        }
      ]
    },
    {
      "cell_type": "code",
      "metadata": {
        "id": "lA49d24C7iBQ"
      },
      "source": [
        "scaler = MinMaxScaler()"
      ],
      "execution_count": null,
      "outputs": []
    },
    {
      "cell_type": "code",
      "metadata": {
        "id": "DpcY1stT7uYV"
      },
      "source": [
        "xTrain = scaler.fit_transform(xTrain)\n",
        "ScaledxTest = scaler.transform(xTest)"
      ],
      "execution_count": null,
      "outputs": []
    },
    {
      "cell_type": "code",
      "metadata": {
        "id": "NoJhxAXC8HR0"
      },
      "source": [
        "lag = 30\n",
        "feature =1"
      ],
      "execution_count": null,
      "outputs": []
    },
    {
      "cell_type": "code",
      "metadata": {
        "id": "ralW_MH37704"
      },
      "source": [
        "TrainingGen = TimeseriesGenerator(xTrain,xTrain,length=lag,batch_size=feature)"
      ],
      "execution_count": null,
      "outputs": []
    },
    {
      "cell_type": "code",
      "metadata": {
        "id": "GIUS_pJ491ZG"
      },
      "source": [
        "TestingGen = TimeseriesGenerator(ScaledxTest,ScaledxTest,length=lag,batch_size=feature)"
      ],
      "execution_count": null,
      "outputs": []
    },
    {
      "cell_type": "markdown",
      "metadata": {
        "id": "dN37_AG59Re8"
      },
      "source": [
        "**Just Creating the Training and Testing Model**\n",
        "\n"
      ]
    },
    {
      "cell_type": "code",
      "metadata": {
        "id": "nd1Q1rc09Q_m"
      },
      "source": [
        "model = Sequential()\n",
        "\n",
        "model.add(LSTM(200,input_shape=(lag,feature),activation='relu'))\n",
        "\n",
        "model.add(Dense(1))\n",
        "\n",
        "model.compile(optimizer='adam',loss='mse')"
      ],
      "execution_count": null,
      "outputs": []
    },
    {
      "cell_type": "code",
      "metadata": {
        "id": "52KWi3FA8V8L",
        "outputId": "d3230a62-0b26-47b0-f41a-844581a902d0",
        "colab": {
          "base_uri": "https://localhost:8080/",
          "height": 236
        }
      },
      "source": [
        "model.summary()"
      ],
      "execution_count": null,
      "outputs": [
        {
          "output_type": "stream",
          "text": [
            "Model: \"sequential_4\"\n",
            "_________________________________________________________________\n",
            "Layer (type)                 Output Shape              Param #   \n",
            "=================================================================\n",
            "lstm_4 (LSTM)                (None, 200)               161600    \n",
            "_________________________________________________________________\n",
            "dense_4 (Dense)              (None, 1)                 201       \n",
            "=================================================================\n",
            "Total params: 161,801\n",
            "Trainable params: 161,801\n",
            "Non-trainable params: 0\n",
            "_________________________________________________________________\n"
          ],
          "name": "stdout"
        }
      ]
    },
    {
      "cell_type": "code",
      "metadata": {
        "id": "90Llbgmi-JYT"
      },
      "source": [
        "call = EarlyStopping(patience=5,monitor='val_loss',verbose=0)"
      ],
      "execution_count": null,
      "outputs": []
    },
    {
      "cell_type": "code",
      "metadata": {
        "id": "pOZcsXer-hRh",
        "outputId": "849a66cc-e1c2-4cbb-cb20-496a965bca93",
        "colab": {
          "base_uri": "https://localhost:8080/",
          "height": 253
        }
      },
      "source": [
        "model.fit_generator(TrainingGen,epochs=50,callbacks=[call],validation_data=TestingGen)"
      ],
      "execution_count": null,
      "outputs": [
        {
          "output_type": "stream",
          "text": [
            "Epoch 1/50\n",
            "570/570 [==============================] - 17s 29ms/step - loss: 0.0141 - val_loss: 1.3964e-04\n",
            "Epoch 2/50\n",
            "570/570 [==============================] - 16s 28ms/step - loss: 0.0084 - val_loss: 3.8973e-04\n",
            "Epoch 3/50\n",
            "570/570 [==============================] - 16s 28ms/step - loss: 0.0082 - val_loss: 0.0011\n",
            "Epoch 4/50\n",
            "570/570 [==============================] - 16s 29ms/step - loss: 0.0080 - val_loss: 0.0063\n",
            "Epoch 5/50\n",
            "570/570 [==============================] - 16s 28ms/step - loss: 0.0074 - val_loss: 0.0057\n",
            "Epoch 6/50\n",
            "570/570 [==============================] - 16s 28ms/step - loss: 0.0070 - val_loss: 0.0077\n"
          ],
          "name": "stdout"
        },
        {
          "output_type": "execute_result",
          "data": {
            "text/plain": [
              "<keras.callbacks.callbacks.History at 0x7f2b9695ef28>"
            ]
          },
          "metadata": {
            "tags": []
          },
          "execution_count": 84
        }
      ]
    },
    {
      "cell_type": "code",
      "metadata": {
        "id": "dfETrJBK-vs6",
        "outputId": "506418fa-ce6e-4216-c933-5c643c214e4a",
        "colab": {
          "base_uri": "https://localhost:8080/",
          "height": 302
        }
      },
      "source": [
        "loss = pd.DataFrame(model.history.history)\n",
        "\n",
        "loss.plot()"
      ],
      "execution_count": null,
      "outputs": [
        {
          "output_type": "execute_result",
          "data": {
            "text/plain": [
              "<matplotlib.axes._subplots.AxesSubplot at 0x7f2b966ca5f8>"
            ]
          },
          "metadata": {
            "tags": []
          },
          "execution_count": 85
        },
        {
          "output_type": "display_data",
          "data": {
            "image/png": "[encoded data removed]",
            "text/plain": [
              "<Figure size 432x288 with 1 Axes>"
            ]
          },
          "metadata": {
            "tags": [],
            "needs_background": "light"
          }
        }
      ]
    },
    {
      "cell_type": "code",
      "metadata": {
        "id": "igOLqE-C_RVV"
      },
      "source": [
        "pred = []\n",
        "\n",
        "predData = xTrain[-lag:]\n",
        "\n",
        "current_batch = predData.reshape((1,lag,feature))\n",
        "\n",
        "for x in range(len(xTest)):\n",
        "  current_pred = model.predict(current_batch)[0]\n",
        "\n",
        "  pred.append(current_pred)\n",
        "\n",
        "  current_batch = np.append(current_batch[:,1:,:],[[current_pred]],axis=1)"
      ],
      "execution_count": null,
      "outputs": []
    },
    {
      "cell_type": "code",
      "metadata": {
        "id": "xnY8C7jSB2DY"
      },
      "source": [
        "true_prediction = scaler.inverse_transform(pred)"
      ],
      "execution_count": null,
      "outputs": []
    },
    {
      "cell_type": "code",
      "metadata": {
        "id": "yja8HjOU9oQf",
        "outputId": "8eb3743b-038e-4c56-a35a-809d8fb87e76",
        "colab": {
          "base_uri": "https://localhost:8080/",
          "height": 54
        }
      },
      "source": [
        "len(data.index[600:])"
      ],
      "execution_count": null,
      "outputs": [
        {
          "output_type": "execute_result",
          "data": {
            "text/plain": [
              "101"
            ]
          },
          "metadata": {
            "tags": []
          },
          "execution_count": 88
        }
      ]
    },
    {
      "cell_type": "code",
      "metadata": {
        "id": "zHTnlaE69u3S",
        "outputId": "e24e5529-15eb-4422-bc1e-ceb2cc17f5bd",
        "colab": {
          "base_uri": "https://localhost:8080/",
          "height": 54
        }
      },
      "source": [
        "len(xTest)"
      ],
      "execution_count": null,
      "outputs": [
        {
          "output_type": "execute_result",
          "data": {
            "text/plain": [
              "101"
            ]
          },
          "metadata": {
            "tags": []
          },
          "execution_count": 89
        }
      ]
    },
    {
      "cell_type": "code",
      "metadata": {
        "id": "n9K4QPZNCoSO"
      },
      "source": [
        "newData = pd.DataFrame(index=data.index[600:])\n",
        "newData['xTest'] = xTest\n",
        "newData['Pred'] = true_prediction.flatten()"
      ],
      "execution_count": null,
      "outputs": []
    },
    {
      "cell_type": "code",
      "metadata": {
        "id": "_t-cTB2vCiCe",
        "outputId": "4c89dc39-ec0b-4b22-9d8b-5a9cf1a633a3",
        "colab": {
          "base_uri": "https://localhost:8080/",
          "height": 316
        }
      },
      "source": [
        "newData.plot()"
      ],
      "execution_count": null,
      "outputs": [
        {
          "output_type": "execute_result",
          "data": {
            "text/plain": [
              "<matplotlib.axes._subplots.AxesSubplot at 0x7f2b9663cb38>"
            ]
          },
          "metadata": {
            "tags": []
          },
          "execution_count": 91
        },
        {
          "output_type": "display_data",
          "data": {
            "image/png": "[encoded data removed]",
            "text/plain": [
              "<Figure size 432x288 with 1 Axes>"
            ]
          },
          "metadata": {
            "tags": [],
            "needs_background": "light"
          }
        }
      ]
    },
    {
      "cell_type": "code",
      "metadata": {
        "id": "b1YpHRFb-opX",
        "outputId": "15070074-3c1f-4fdb-d629-d79ecbce1668",
        "colab": {
          "base_uri": "https://localhost:8080/",
          "height": 464
        }
      },
      "source": [
        "newData"
      ],
      "execution_count": null,
      "outputs": [
        {
          "output_type": "execute_result",
          "data": {
            "text/html": [
              "<div>\n",
              "<style scoped>\n",
              "    .dataframe tbody tr th:only-of-type {\n",
              "        vertical-align: middle;\n",
              "    }\n",
              "\n",
              "    .dataframe tbody tr th {\n",
              "        vertical-align: top;\n",
              "    }\n",
              "\n",
              "    .dataframe thead th {\n",
              "        text-align: right;\n",
              "    }\n",
              "</style>\n",
              "<table border=\"1\" class=\"dataframe\">\n",
              "  <thead>\n",
              "    <tr style=\"text-align: right;\">\n",
              "      <th></th>\n",
              "      <th>xTest</th>\n",
              "      <th>Pred</th>\n",
              "    </tr>\n",
              "    <tr>\n",
              "      <th>InvoiceDate</th>\n",
              "      <th></th>\n",
              "      <th></th>\n",
              "    </tr>\n",
              "  </thead>\n",
              "  <tbody>\n",
              "    <tr>\n",
              "      <th>2019-08-27</th>\n",
              "      <td>8.315566</td>\n",
              "      <td>8.364994</td>\n",
              "    </tr>\n",
              "    <tr>\n",
              "      <th>2019-08-28</th>\n",
              "      <td>8.315566</td>\n",
              "      <td>8.384650</td>\n",
              "    </tr>\n",
              "    <tr>\n",
              "      <th>2019-08-29</th>\n",
              "      <td>8.315566</td>\n",
              "      <td>8.399880</td>\n",
              "    </tr>\n",
              "    <tr>\n",
              "      <th>2019-08-30</th>\n",
              "      <td>8.315566</td>\n",
              "      <td>8.412690</td>\n",
              "    </tr>\n",
              "    <tr>\n",
              "      <th>2019-08-31</th>\n",
              "      <td>8.315566</td>\n",
              "      <td>8.423704</td>\n",
              "    </tr>\n",
              "    <tr>\n",
              "      <th>...</th>\n",
              "      <td>...</td>\n",
              "      <td>...</td>\n",
              "    </tr>\n",
              "    <tr>\n",
              "      <th>2019-12-01</th>\n",
              "      <td>8.360071</td>\n",
              "      <td>8.500846</td>\n",
              "    </tr>\n",
              "    <tr>\n",
              "      <th>2019-12-02</th>\n",
              "      <td>8.464214</td>\n",
              "      <td>8.500846</td>\n",
              "    </tr>\n",
              "    <tr>\n",
              "      <th>2019-12-03</th>\n",
              "      <td>8.443547</td>\n",
              "      <td>8.500846</td>\n",
              "    </tr>\n",
              "    <tr>\n",
              "      <th>2019-12-04</th>\n",
              "      <td>8.731659</td>\n",
              "      <td>8.500846</td>\n",
              "    </tr>\n",
              "    <tr>\n",
              "      <th>2019-12-05</th>\n",
              "      <td>8.442470</td>\n",
              "      <td>8.500846</td>\n",
              "    </tr>\n",
              "  </tbody>\n",
              "</table>\n",
              "<p>101 rows × 2 columns</p>\n",
              "</div>"
            ],
            "text/plain": [
              "                xTest      Pred\n",
              "InvoiceDate                    \n",
              "2019-08-27   8.315566  8.364994\n",
              "2019-08-28   8.315566  8.384650\n",
              "2019-08-29   8.315566  8.399880\n",
              "2019-08-30   8.315566  8.412690\n",
              "2019-08-31   8.315566  8.423704\n",
              "...               ...       ...\n",
              "2019-12-01   8.360071  8.500846\n",
              "2019-12-02   8.464214  8.500846\n",
              "2019-12-03   8.443547  8.500846\n",
              "2019-12-04   8.731659  8.500846\n",
              "2019-12-05   8.442470  8.500846\n",
              "\n",
              "[101 rows x 2 columns]"
            ]
          },
          "metadata": {
            "tags": []
          },
          "execution_count": 92
        }
      ]
    },
    {
      "cell_type": "code",
      "metadata": {
        "id": "l1pL-kim-sCh"
      },
      "source": [],
      "execution_count": null,
      "outputs": []
    }
  ]
}