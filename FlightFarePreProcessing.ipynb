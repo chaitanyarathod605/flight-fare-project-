{
  "nbformat": 4,
  "nbformat_minor": 0,
  "metadata": {
    "colab": {
      "provenance": []
    },
    "kernelspec": {
      "name": "python3",
      "display_name": "Python 3"
    }
  },
  "cells": [
    {
      "cell_type": "code",
      "metadata": {
        "id": "6X-b8-rSxgkV"
      },
      "source": [
        "import pandas as pd\n",
        "import numpy as np\n",
        "import matplotlib.pyplot as plt\n",
        "import seaborn as sns\n",
        "import datetime as dt\n",
        "import math\n",
        "import re\n",
        " \n",
        "from sklearn.preprocessing import LabelEncoder,OneHotEncoder\n",
        "from sklearn.impute import SimpleImputer,KNNImputer\n",
        " \n",
        "import warnings\n",
        " \n",
        "warnings.filterwarnings('ignore')\n",
        " \n",
        "sns.set_style('darkgrid')"
      ],
      "execution_count": null,
      "outputs": []
    },
    {
      "cell_type": "code",
      "metadata": {
        "id": "9p0jbp0rgpWO"
      },
      "source": [
        "data = pd.read_csv('/content/drive/My Drive/ColabDataset/Flight Fare/Concatenate_B2C_B2E.csv',low_memory=True)"
      ],
      "execution_count": null,
      "outputs": []
    },
    {
      "cell_type": "code",
      "metadata": {
        "id": "rv-Dm3S7yG-0",
        "colab": {
          "base_uri": "https://localhost:8080/",
          "height": 366
        },
        "outputId": "78a0a9c5-15dd-400a-9eae-caa2f435ff28"
      },
      "source": [
        "data.head(10)"
      ],
      "execution_count": null,
      "outputs": [
        {
          "output_type": "execute_result",
          "data": {
            "text/html": [
              "<div>\n",
              "<style scoped>\n",
              "    .dataframe tbody tr th:only-of-type {\n",
              "        vertical-align: middle;\n",
              "    }\n",
              "\n",
              "    .dataframe tbody tr th {\n",
              "        vertical-align: top;\n",
              "    }\n",
              "\n",
              "    .dataframe thead th {\n",
              "        text-align: right;\n",
              "    }\n",
              "</style>\n",
              "<table border=\"1\" class=\"dataframe\">\n",
              "  <thead>\n",
              "    <tr style=\"text-align: right;\">\n",
              "      <th></th>\n",
              "      <th>InvoiceDate</th>\n",
              "      <th>NetFare</th>\n",
              "      <th>ProductType</th>\n",
              "      <th>ItineraryType</th>\n",
              "    </tr>\n",
              "  </thead>\n",
              "  <tbody>\n",
              "    <tr>\n",
              "      <th>0</th>\n",
              "      <td>01-12-2018 11:43</td>\n",
              "      <td>2160</td>\n",
              "      <td>Other Product</td>\n",
              "      <td>Domestic</td>\n",
              "    </tr>\n",
              "    <tr>\n",
              "      <th>1</th>\n",
              "      <td>01-12-2018 11:43</td>\n",
              "      <td>0.49</td>\n",
              "      <td>Other Product</td>\n",
              "      <td>Domestic</td>\n",
              "    </tr>\n",
              "    <tr>\n",
              "      <th>2</th>\n",
              "      <td>01-12-2018 13:01</td>\n",
              "      <td>6550</td>\n",
              "      <td>Air</td>\n",
              "      <td>Domestic</td>\n",
              "    </tr>\n",
              "    <tr>\n",
              "      <th>3</th>\n",
              "      <td>01-12-2018 13:10</td>\n",
              "      <td>6550</td>\n",
              "      <td>Air</td>\n",
              "      <td>Domestic</td>\n",
              "    </tr>\n",
              "    <tr>\n",
              "      <th>4</th>\n",
              "      <td>30-11-2018 14:30</td>\n",
              "      <td>5497</td>\n",
              "      <td>Air</td>\n",
              "      <td>Domestic</td>\n",
              "    </tr>\n",
              "    <tr>\n",
              "      <th>5</th>\n",
              "      <td>01-12-2018 14:09</td>\n",
              "      <td>4818</td>\n",
              "      <td>Air</td>\n",
              "      <td>Domestic</td>\n",
              "    </tr>\n",
              "    <tr>\n",
              "      <th>6</th>\n",
              "      <td>30-11-2018 14:30</td>\n",
              "      <td>1768</td>\n",
              "      <td>Air</td>\n",
              "      <td>Domestic</td>\n",
              "    </tr>\n",
              "    <tr>\n",
              "      <th>7</th>\n",
              "      <td>01-12-2018 13:10</td>\n",
              "      <td>7300</td>\n",
              "      <td>Air</td>\n",
              "      <td>Domestic</td>\n",
              "    </tr>\n",
              "    <tr>\n",
              "      <th>8</th>\n",
              "      <td>30-11-2018 17:30</td>\n",
              "      <td>7050</td>\n",
              "      <td>Air</td>\n",
              "      <td>Domestic</td>\n",
              "    </tr>\n",
              "    <tr>\n",
              "      <th>9</th>\n",
              "      <td>01-12-2018 14:25</td>\n",
              "      <td>7300</td>\n",
              "      <td>Air</td>\n",
              "      <td>Domestic</td>\n",
              "    </tr>\n",
              "  </tbody>\n",
              "</table>\n",
              "</div>"
            ],
            "text/plain": [
              "        InvoiceDate NetFare    ProductType ItineraryType\n",
              "0  01-12-2018 11:43    2160  Other Product      Domestic\n",
              "1  01-12-2018 11:43    0.49  Other Product      Domestic\n",
              "2  01-12-2018 13:01    6550            Air      Domestic\n",
              "3  01-12-2018 13:10    6550            Air      Domestic\n",
              "4  30-11-2018 14:30    5497            Air      Domestic\n",
              "5  01-12-2018 14:09    4818            Air      Domestic\n",
              "6  30-11-2018 14:30    1768            Air      Domestic\n",
              "7  01-12-2018 13:10    7300            Air      Domestic\n",
              "8  30-11-2018 17:30    7050            Air      Domestic\n",
              "9  01-12-2018 14:25    7300            Air      Domestic"
            ]
          },
          "metadata": {
            "tags": []
          },
          "execution_count": 39
        }
      ]
    },
    {
      "cell_type": "code",
      "metadata": {
        "id": "89lg6Fecntlm",
        "colab": {
          "base_uri": "https://localhost:8080/",
          "height": 55
        },
        "outputId": "197a54fe-b125-4809-f6a8-f2042f9eee3d"
      },
      "source": [
        "from google.colab import drive\n",
        "drive.mount('/content/drive')"
      ],
      "execution_count": null,
      "outputs": [
        {
          "output_type": "stream",
          "text": [
            "Drive already mounted at /content/drive; to attempt to forcibly remount, call drive.mount(\"/content/drive\", force_remount=True).\n"
          ],
          "name": "stdout"
        }
      ]
    },
    {
      "cell_type": "code",
      "metadata": {
        "id": "Nv-AhiTtyIBv",
        "colab": {
          "base_uri": "https://localhost:8080/",
          "height": 366
        },
        "outputId": "b89121cc-00f6-49ff-cb30-29a64c00cdfc"
      },
      "source": [
        "data.tail(10)"
      ],
      "execution_count": null,
      "outputs": [
        {
          "output_type": "execute_result",
          "data": {
            "text/html": [
              "<div>\n",
              "<style scoped>\n",
              "    .dataframe tbody tr th:only-of-type {\n",
              "        vertical-align: middle;\n",
              "    }\n",
              "\n",
              "    .dataframe tbody tr th {\n",
              "        vertical-align: top;\n",
              "    }\n",
              "\n",
              "    .dataframe thead th {\n",
              "        text-align: right;\n",
              "    }\n",
              "</style>\n",
              "<table border=\"1\" class=\"dataframe\">\n",
              "  <thead>\n",
              "    <tr style=\"text-align: right;\">\n",
              "      <th></th>\n",
              "      <th>InvoiceDate</th>\n",
              "      <th>NetFare</th>\n",
              "      <th>ProductType</th>\n",
              "      <th>ItineraryType</th>\n",
              "    </tr>\n",
              "  </thead>\n",
              "  <tbody>\n",
              "    <tr>\n",
              "      <th>278456</th>\n",
              "      <td>10-06-2019 20:05</td>\n",
              "      <td>22427</td>\n",
              "      <td>Air</td>\n",
              "      <td>International</td>\n",
              "    </tr>\n",
              "    <tr>\n",
              "      <th>278457</th>\n",
              "      <td>10-06-2019 20:23</td>\n",
              "      <td>1207</td>\n",
              "      <td>Air</td>\n",
              "      <td>Domestic</td>\n",
              "    </tr>\n",
              "    <tr>\n",
              "      <th>278458</th>\n",
              "      <td>10-06-2019 20:53</td>\n",
              "      <td>3725</td>\n",
              "      <td>Air</td>\n",
              "      <td>Domestic</td>\n",
              "    </tr>\n",
              "    <tr>\n",
              "      <th>278459</th>\n",
              "      <td>10-06-2019 20:32</td>\n",
              "      <td>-4850</td>\n",
              "      <td>Air</td>\n",
              "      <td>Domestic</td>\n",
              "    </tr>\n",
              "    <tr>\n",
              "      <th>278460</th>\n",
              "      <td>10-06-2019 20:34</td>\n",
              "      <td>-5492</td>\n",
              "      <td>Air</td>\n",
              "      <td>Domestic</td>\n",
              "    </tr>\n",
              "    <tr>\n",
              "      <th>278461</th>\n",
              "      <td>10-06-2019 20:45</td>\n",
              "      <td>0</td>\n",
              "      <td>Air</td>\n",
              "      <td>Domestic</td>\n",
              "    </tr>\n",
              "    <tr>\n",
              "      <th>278462</th>\n",
              "      <td>10-06-2019 21:39</td>\n",
              "      <td>9073</td>\n",
              "      <td>Air</td>\n",
              "      <td>Domestic</td>\n",
              "    </tr>\n",
              "    <tr>\n",
              "      <th>278463</th>\n",
              "      <td>10-06-2019 22:18</td>\n",
              "      <td>2367</td>\n",
              "      <td>Air</td>\n",
              "      <td>Domestic</td>\n",
              "    </tr>\n",
              "    <tr>\n",
              "      <th>278464</th>\n",
              "      <td>10-06-2019 22:30</td>\n",
              "      <td>6572</td>\n",
              "      <td>Air</td>\n",
              "      <td>Domestic</td>\n",
              "    </tr>\n",
              "    <tr>\n",
              "      <th>278465</th>\n",
              "      <td>10-06-2019 22:30</td>\n",
              "      <td>5118</td>\n",
              "      <td>Air</td>\n",
              "      <td>Domestic</td>\n",
              "    </tr>\n",
              "  </tbody>\n",
              "</table>\n",
              "</div>"
            ],
            "text/plain": [
              "             InvoiceDate NetFare ProductType  ItineraryType\n",
              "278456  10-06-2019 20:05   22427         Air  International\n",
              "278457  10-06-2019 20:23    1207         Air       Domestic\n",
              "278458  10-06-2019 20:53    3725         Air       Domestic\n",
              "278459  10-06-2019 20:32   -4850         Air       Domestic\n",
              "278460  10-06-2019 20:34   -5492         Air       Domestic\n",
              "278461  10-06-2019 20:45       0         Air       Domestic\n",
              "278462  10-06-2019 21:39    9073         Air       Domestic\n",
              "278463  10-06-2019 22:18    2367         Air       Domestic\n",
              "278464  10-06-2019 22:30    6572         Air       Domestic\n",
              "278465  10-06-2019 22:30    5118         Air       Domestic"
            ]
          },
          "metadata": {
            "tags": []
          },
          "execution_count": 41
        }
      ]
    },
    {
      "cell_type": "code",
      "metadata": {
        "id": "svYznE3hFOIg",
        "colab": {
          "base_uri": "https://localhost:8080/",
          "height": 35
        },
        "outputId": "26472624-2e7f-4170-f3b1-5892b7eda634"
      },
      "source": [
        "data.shape"
      ],
      "execution_count": null,
      "outputs": [
        {
          "output_type": "execute_result",
          "data": {
            "text/plain": [
              "(278466, 4)"
            ]
          },
          "metadata": {
            "tags": []
          },
          "execution_count": 42
        }
      ]
    },
    {
      "cell_type": "code",
      "metadata": {
        "id": "36OgWCojyOuI",
        "colab": {
          "base_uri": "https://localhost:8080/",
          "height": 211
        },
        "outputId": "cc4a24de-6831-4341-ad3c-c3b5edb8e731"
      },
      "source": [
        "data.info()"
      ],
      "execution_count": null,
      "outputs": [
        {
          "output_type": "stream",
          "text": [
            "<class 'pandas.core.frame.DataFrame'>\n",
            "RangeIndex: 278466 entries, 0 to 278465\n",
            "Data columns (total 4 columns):\n",
            " #   Column         Non-Null Count   Dtype \n",
            "---  ------         --------------   ----- \n",
            " 0   InvoiceDate    278464 non-null  object\n",
            " 1   NetFare        217576 non-null  object\n",
            " 2   ProductType    278464 non-null  object\n",
            " 3   ItineraryType  245689 non-null  object\n",
            "dtypes: object(4)\n",
            "memory usage: 8.5+ MB\n"
          ],
          "name": "stdout"
        }
      ]
    },
    {
      "cell_type": "markdown",
      "metadata": {
        "id": "OuLhHdT6yes8"
      },
      "source": [
        "# New Section"
      ]
    },
    {
      "cell_type": "code",
      "metadata": {
        "id": "XRV3LIEPyWzr",
        "colab": {
          "base_uri": "https://localhost:8080/",
          "height": 176
        },
        "outputId": "9810d66e-44c3-4f9a-ad6b-3b194d839351"
      },
      "source": [
        "data.describe(include='object').transpose()"
      ],
      "execution_count": null,
      "outputs": [
        {
          "output_type": "execute_result",
          "data": {
            "text/html": [
              "<div>\n",
              "<style scoped>\n",
              "    .dataframe tbody tr th:only-of-type {\n",
              "        vertical-align: middle;\n",
              "    }\n",
              "\n",
              "    .dataframe tbody tr th {\n",
              "        vertical-align: top;\n",
              "    }\n",
              "\n",
              "    .dataframe thead th {\n",
              "        text-align: right;\n",
              "    }\n",
              "</style>\n",
              "<table border=\"1\" class=\"dataframe\">\n",
              "  <thead>\n",
              "    <tr style=\"text-align: right;\">\n",
              "      <th></th>\n",
              "      <th>count</th>\n",
              "      <th>unique</th>\n",
              "      <th>top</th>\n",
              "      <th>freq</th>\n",
              "    </tr>\n",
              "  </thead>\n",
              "  <tbody>\n",
              "    <tr>\n",
              "      <th>InvoiceDate</th>\n",
              "      <td>278464</td>\n",
              "      <td>97784</td>\n",
              "      <td>30-05-2019 12:26</td>\n",
              "      <td>159</td>\n",
              "    </tr>\n",
              "    <tr>\n",
              "      <th>NetFare</th>\n",
              "      <td>217576</td>\n",
              "      <td>31033</td>\n",
              "      <td>0</td>\n",
              "      <td>21931</td>\n",
              "    </tr>\n",
              "    <tr>\n",
              "      <th>ProductType</th>\n",
              "      <td>278464</td>\n",
              "      <td>14</td>\n",
              "      <td>Air</td>\n",
              "      <td>151995</td>\n",
              "    </tr>\n",
              "    <tr>\n",
              "      <th>ItineraryType</th>\n",
              "      <td>245689</td>\n",
              "      <td>2</td>\n",
              "      <td>Domestic</td>\n",
              "      <td>225231</td>\n",
              "    </tr>\n",
              "  </tbody>\n",
              "</table>\n",
              "</div>"
            ],
            "text/plain": [
              "                count unique               top    freq\n",
              "InvoiceDate    278464  97784  30-05-2019 12:26     159\n",
              "NetFare        217576  31033                 0   21931\n",
              "ProductType    278464     14               Air  151995\n",
              "ItineraryType  245689      2          Domestic  225231"
            ]
          },
          "metadata": {
            "tags": []
          },
          "execution_count": 44
        }
      ]
    },
    {
      "cell_type": "code",
      "metadata": {
        "id": "sk6RCV12yaeH"
      },
      "source": [
        "data['InvoiceDate'] = pd.to_datetime(data['InvoiceDate'])"
      ],
      "execution_count": null,
      "outputs": []
    },
    {
      "cell_type": "code",
      "metadata": {
        "id": "ZOsuQH-ryx5L"
      },
      "source": [
        "# Just converted the InvoiceDate from object ot DateTime of Pandas"
      ],
      "execution_count": null,
      "outputs": []
    },
    {
      "cell_type": "code",
      "metadata": {
        "id": "u5OHWLVqy-xZ",
        "colab": {
          "base_uri": "https://localhost:8080/",
          "height": 228
        },
        "outputId": "eebd1f3e-787b-4124-f0a7-1b2044b8504b"
      },
      "source": [
        "data['InvoiceDate']"
      ],
      "execution_count": null,
      "outputs": [
        {
          "output_type": "execute_result",
          "data": {
            "text/plain": [
              "0        2018-01-12 11:43:00\n",
              "1        2018-01-12 11:43:00\n",
              "2        2018-01-12 13:01:00\n",
              "3        2018-01-12 13:10:00\n",
              "4        2018-11-30 14:30:00\n",
              "                 ...        \n",
              "278461   2019-10-06 20:45:00\n",
              "278462   2019-10-06 21:39:00\n",
              "278463   2019-10-06 22:18:00\n",
              "278464   2019-10-06 22:30:00\n",
              "278465   2019-10-06 22:30:00\n",
              "Name: InvoiceDate, Length: 278466, dtype: datetime64[ns]"
            ]
          },
          "metadata": {
            "tags": []
          },
          "execution_count": 47
        }
      ]
    },
    {
      "cell_type": "code",
      "metadata": {
        "id": "zTq_Dkc4zBuR",
        "colab": {
          "base_uri": "https://localhost:8080/",
          "height": 228
        },
        "outputId": "14f0a172-6787-4ec0-c668-a5cfa0ca3321"
      },
      "source": [
        "data['InvoiceDate'].dt.date"
      ],
      "execution_count": null,
      "outputs": [
        {
          "output_type": "execute_result",
          "data": {
            "text/plain": [
              "0         2018-01-12\n",
              "1         2018-01-12\n",
              "2         2018-01-12\n",
              "3         2018-01-12\n",
              "4         2018-11-30\n",
              "             ...    \n",
              "278461    2019-10-06\n",
              "278462    2019-10-06\n",
              "278463    2019-10-06\n",
              "278464    2019-10-06\n",
              "278465    2019-10-06\n",
              "Name: InvoiceDate, Length: 278466, dtype: object"
            ]
          },
          "metadata": {
            "tags": []
          },
          "execution_count": 48
        }
      ]
    },
    {
      "cell_type": "code",
      "metadata": {
        "id": "1-9JpMSpzWXH",
        "colab": {
          "base_uri": "https://localhost:8080/",
          "height": 228
        },
        "outputId": "bddfb8c2-5eac-4529-b32b-15f6f161f414"
      },
      "source": [
        "data['InvoiceDate'].dt.time"
      ],
      "execution_count": null,
      "outputs": [
        {
          "output_type": "execute_result",
          "data": {
            "text/plain": [
              "0         11:43:00\n",
              "1         11:43:00\n",
              "2         13:01:00\n",
              "3         13:10:00\n",
              "4         14:30:00\n",
              "            ...   \n",
              "278461    20:45:00\n",
              "278462    21:39:00\n",
              "278463    22:18:00\n",
              "278464    22:30:00\n",
              "278465    22:30:00\n",
              "Name: InvoiceDate, Length: 278466, dtype: object"
            ]
          },
          "metadata": {
            "tags": []
          },
          "execution_count": 49
        }
      ]
    },
    {
      "cell_type": "code",
      "metadata": {
        "id": "YRyPJ7czz8ZQ"
      },
      "source": [
        "data['InvoiceTime'] = data['InvoiceDate'].dt.time"
      ],
      "execution_count": null,
      "outputs": []
    },
    {
      "cell_type": "code",
      "metadata": {
        "id": "sr41_eVY0i2q",
        "colab": {
          "base_uri": "https://localhost:8080/",
          "height": 211
        },
        "outputId": "46d2b4a8-aca4-450e-94fb-d09cfd4c5823"
      },
      "source": [
        "data['InvoiceTime'].head(10)"
      ],
      "execution_count": null,
      "outputs": [
        {
          "output_type": "execute_result",
          "data": {
            "text/plain": [
              "0    11:43:00\n",
              "1    11:43:00\n",
              "2    13:01:00\n",
              "3    13:10:00\n",
              "4    14:30:00\n",
              "5    14:09:00\n",
              "6    14:30:00\n",
              "7    13:10:00\n",
              "8    17:30:00\n",
              "9    14:25:00\n",
              "Name: InvoiceTime, dtype: object"
            ]
          },
          "metadata": {
            "tags": []
          },
          "execution_count": 51
        }
      ]
    },
    {
      "cell_type": "code",
      "metadata": {
        "id": "PeEeVsU90tco"
      },
      "source": [
        "data['InvoiceDate'] = data['InvoiceDate'].dt.date"
      ],
      "execution_count": null,
      "outputs": []
    },
    {
      "cell_type": "code",
      "metadata": {
        "id": "gZD2VQ9D0-E7",
        "colab": {
          "base_uri": "https://localhost:8080/",
          "height": 211
        },
        "outputId": "4db90c33-3cc6-42c4-ae06-406a5114682a"
      },
      "source": [
        "data['InvoiceDate'].head(10)"
      ],
      "execution_count": null,
      "outputs": [
        {
          "output_type": "execute_result",
          "data": {
            "text/plain": [
              "0    2018-01-12\n",
              "1    2018-01-12\n",
              "2    2018-01-12\n",
              "3    2018-01-12\n",
              "4    2018-11-30\n",
              "5    2018-01-12\n",
              "6    2018-11-30\n",
              "7    2018-01-12\n",
              "8    2018-11-30\n",
              "9    2018-01-12\n",
              "Name: InvoiceDate, dtype: object"
            ]
          },
          "metadata": {
            "tags": []
          },
          "execution_count": 53
        }
      ]
    },
    {
      "cell_type": "code",
      "metadata": {
        "id": "pN2mufiM1Ajj",
        "colab": {
          "base_uri": "https://localhost:8080/",
          "height": 35
        },
        "outputId": "b02df340-e013-461b-da85-37bd58255a68"
      },
      "source": [
        "type(data['InvoiceDate'][0])"
      ],
      "execution_count": null,
      "outputs": [
        {
          "output_type": "execute_result",
          "data": {
            "text/plain": [
              "datetime.date"
            ]
          },
          "metadata": {
            "tags": []
          },
          "execution_count": 54
        }
      ]
    },
    {
      "cell_type": "code",
      "metadata": {
        "id": "xZEo7s2h1TN6",
        "colab": {
          "base_uri": "https://localhost:8080/",
          "height": 35
        },
        "outputId": "17804ee1-c747-42ef-9d74-8561645ec141"
      },
      "source": [
        "type(data['InvoiceTime'][0])"
      ],
      "execution_count": null,
      "outputs": [
        {
          "output_type": "execute_result",
          "data": {
            "text/plain": [
              "datetime.time"
            ]
          },
          "metadata": {
            "tags": []
          },
          "execution_count": 55
        }
      ]
    },
    {
      "cell_type": "code",
      "metadata": {
        "id": "b81M_uex1V13",
        "colab": {
          "base_uri": "https://localhost:8080/",
          "height": 366
        },
        "outputId": "892b6fdb-920a-4872-ce6b-c827bc1a8375"
      },
      "source": [
        "data.head(10)"
      ],
      "execution_count": null,
      "outputs": [
        {
          "output_type": "execute_result",
          "data": {
            "text/html": [
              "<div>\n",
              "<style scoped>\n",
              "    .dataframe tbody tr th:only-of-type {\n",
              "        vertical-align: middle;\n",
              "    }\n",
              "\n",
              "    .dataframe tbody tr th {\n",
              "        vertical-align: top;\n",
              "    }\n",
              "\n",
              "    .dataframe thead th {\n",
              "        text-align: right;\n",
              "    }\n",
              "</style>\n",
              "<table border=\"1\" class=\"dataframe\">\n",
              "  <thead>\n",
              "    <tr style=\"text-align: right;\">\n",
              "      <th></th>\n",
              "      <th>InvoiceDate</th>\n",
              "      <th>NetFare</th>\n",
              "      <th>ProductType</th>\n",
              "      <th>ItineraryType</th>\n",
              "      <th>InvoiceTime</th>\n",
              "    </tr>\n",
              "  </thead>\n",
              "  <tbody>\n",
              "    <tr>\n",
              "      <th>0</th>\n",
              "      <td>2018-01-12</td>\n",
              "      <td>2160</td>\n",
              "      <td>Other Product</td>\n",
              "      <td>Domestic</td>\n",
              "      <td>11:43:00</td>\n",
              "    </tr>\n",
              "    <tr>\n",
              "      <th>1</th>\n",
              "      <td>2018-01-12</td>\n",
              "      <td>0.49</td>\n",
              "      <td>Other Product</td>\n",
              "      <td>Domestic</td>\n",
              "      <td>11:43:00</td>\n",
              "    </tr>\n",
              "    <tr>\n",
              "      <th>2</th>\n",
              "      <td>2018-01-12</td>\n",
              "      <td>6550</td>\n",
              "      <td>Air</td>\n",
              "      <td>Domestic</td>\n",
              "      <td>13:01:00</td>\n",
              "    </tr>\n",
              "    <tr>\n",
              "      <th>3</th>\n",
              "      <td>2018-01-12</td>\n",
              "      <td>6550</td>\n",
              "      <td>Air</td>\n",
              "      <td>Domestic</td>\n",
              "      <td>13:10:00</td>\n",
              "    </tr>\n",
              "    <tr>\n",
              "      <th>4</th>\n",
              "      <td>2018-11-30</td>\n",
              "      <td>5497</td>\n",
              "      <td>Air</td>\n",
              "      <td>Domestic</td>\n",
              "      <td>14:30:00</td>\n",
              "    </tr>\n",
              "    <tr>\n",
              "      <th>5</th>\n",
              "      <td>2018-01-12</td>\n",
              "      <td>4818</td>\n",
              "      <td>Air</td>\n",
              "      <td>Domestic</td>\n",
              "      <td>14:09:00</td>\n",
              "    </tr>\n",
              "    <tr>\n",
              "      <th>6</th>\n",
              "      <td>2018-11-30</td>\n",
              "      <td>1768</td>\n",
              "      <td>Air</td>\n",
              "      <td>Domestic</td>\n",
              "      <td>14:30:00</td>\n",
              "    </tr>\n",
              "    <tr>\n",
              "      <th>7</th>\n",
              "      <td>2018-01-12</td>\n",
              "      <td>7300</td>\n",
              "      <td>Air</td>\n",
              "      <td>Domestic</td>\n",
              "      <td>13:10:00</td>\n",
              "    </tr>\n",
              "    <tr>\n",
              "      <th>8</th>\n",
              "      <td>2018-11-30</td>\n",
              "      <td>7050</td>\n",
              "      <td>Air</td>\n",
              "      <td>Domestic</td>\n",
              "      <td>17:30:00</td>\n",
              "    </tr>\n",
              "    <tr>\n",
              "      <th>9</th>\n",
              "      <td>2018-01-12</td>\n",
              "      <td>7300</td>\n",
              "      <td>Air</td>\n",
              "      <td>Domestic</td>\n",
              "      <td>14:25:00</td>\n",
              "    </tr>\n",
              "  </tbody>\n",
              "</table>\n",
              "</div>"
            ],
            "text/plain": [
              "  InvoiceDate NetFare    ProductType ItineraryType InvoiceTime\n",
              "0  2018-01-12    2160  Other Product      Domestic    11:43:00\n",
              "1  2018-01-12    0.49  Other Product      Domestic    11:43:00\n",
              "2  2018-01-12    6550            Air      Domestic    13:01:00\n",
              "3  2018-01-12    6550            Air      Domestic    13:10:00\n",
              "4  2018-11-30    5497            Air      Domestic    14:30:00\n",
              "5  2018-01-12    4818            Air      Domestic    14:09:00\n",
              "6  2018-11-30    1768            Air      Domestic    14:30:00\n",
              "7  2018-01-12    7300            Air      Domestic    13:10:00\n",
              "8  2018-11-30    7050            Air      Domestic    17:30:00\n",
              "9  2018-01-12    7300            Air      Domestic    14:25:00"
            ]
          },
          "metadata": {
            "tags": []
          },
          "execution_count": 56
        }
      ]
    },
    {
      "cell_type": "code",
      "metadata": {
        "id": "KzBr8_CD7lFM"
      },
      "source": [
        "data['InvoiceDate'] = pd.to_datetime(data['InvoiceDate'])"
      ],
      "execution_count": null,
      "outputs": []
    },
    {
      "cell_type": "code",
      "metadata": {
        "id": "KV_OamCT-PKr"
      },
      "source": [],
      "execution_count": null,
      "outputs": []
    },
    {
      "cell_type": "code",
      "metadata": {
        "id": "9XOdWGl56AIj",
        "colab": {
          "base_uri": "https://localhost:8080/",
          "height": 35
        },
        "outputId": "f2dfb19e-1f7f-4c6a-b1d9-f6238278e5b3"
      },
      "source": [
        "(data['InvoiceDate'][data['InvoiceDate'].dt.year <2019]).count()"
      ],
      "execution_count": null,
      "outputs": [
        {
          "output_type": "execute_result",
          "data": {
            "text/plain": [
              "68786"
            ]
          },
          "metadata": {
            "tags": []
          },
          "execution_count": 58
        }
      ]
    },
    {
      "cell_type": "code",
      "metadata": {
        "id": "pe_UaIVfF_0l",
        "colab": {
          "base_uri": "https://localhost:8080/",
          "height": 35
        },
        "outputId": "98798221-03ae-4116-d2eb-812376a796d8"
      },
      "source": [
        "(data['InvoiceDate'][data['InvoiceDate'].dt.year <2019]).nunique()"
      ],
      "execution_count": null,
      "outputs": [
        {
          "output_type": "execute_result",
          "data": {
            "text/plain": [
              "264"
            ]
          },
          "metadata": {
            "tags": []
          },
          "execution_count": 59
        }
      ]
    },
    {
      "cell_type": "code",
      "metadata": {
        "id": "-coKaEQqC1dA",
        "colab": {
          "base_uri": "https://localhost:8080/",
          "height": 35
        },
        "outputId": "594fad36-310f-459e-f288-894d630f4d74"
      },
      "source": [
        "(data['InvoiceDate'][data['InvoiceDate'].dt.year >2018]).count()"
      ],
      "execution_count": null,
      "outputs": [
        {
          "output_type": "execute_result",
          "data": {
            "text/plain": [
              "209678"
            ]
          },
          "metadata": {
            "tags": []
          },
          "execution_count": 60
        }
      ]
    },
    {
      "cell_type": "code",
      "metadata": {
        "id": "UXV256tgGGVE",
        "colab": {
          "base_uri": "https://localhost:8080/",
          "height": 35
        },
        "outputId": "3390a5ba-b24e-419b-ecf9-98bf753a4a49"
      },
      "source": [
        "(data['InvoiceDate'][data['InvoiceDate'].dt.year >2018]).nunique()"
      ],
      "execution_count": null,
      "outputs": [
        {
          "output_type": "execute_result",
          "data": {
            "text/plain": [
              "161"
            ]
          },
          "metadata": {
            "tags": []
          },
          "execution_count": 61
        }
      ]
    },
    {
      "cell_type": "code",
      "metadata": {
        "id": "Nzt1QjENFHDE"
      },
      "source": [
        "size = (19,9)"
      ],
      "execution_count": null,
      "outputs": []
    },
    {
      "cell_type": "code",
      "metadata": {
        "id": "40NcrfMhFc-4",
        "colab": {
          "base_uri": "https://localhost:8080/",
          "height": 228
        },
        "outputId": "4490a053-4782-40a7-b607-24b63b436e73"
      },
      "source": [
        "data[data['InvoiceDate'].dt.year < 2019]['InvoiceDate'].dt.quarter"
      ],
      "execution_count": null,
      "outputs": [
        {
          "output_type": "execute_result",
          "data": {
            "text/plain": [
              "0         1\n",
              "1         1\n",
              "2         1\n",
              "3         1\n",
              "4         4\n",
              "         ..\n",
              "249615    4\n",
              "249616    4\n",
              "249617    4\n",
              "249618    4\n",
              "249619    4\n",
              "Name: InvoiceDate, Length: 68786, dtype: int64"
            ]
          },
          "metadata": {
            "tags": []
          },
          "execution_count": 63
        }
      ]
    },
    {
      "cell_type": "markdown",
      "metadata": {
        "id": "R-38u2krViu4"
      },
      "source": [
        "Now converting the NetFare column into Integer"
      ]
    },
    {
      "cell_type": "code",
      "metadata": {
        "id": "aeD-tCSGjPSf",
        "colab": {
          "base_uri": "https://localhost:8080/",
          "height": 35
        },
        "outputId": "583131bb-771a-46c0-a986-29199c14418c"
      },
      "source": [
        "data['NetFare'].isna().sum()"
      ],
      "execution_count": null,
      "outputs": [
        {
          "output_type": "execute_result",
          "data": {
            "text/plain": [
              "60890"
            ]
          },
          "metadata": {
            "tags": []
          },
          "execution_count": 64
        }
      ]
    },
    {
      "cell_type": "code",
      "metadata": {
        "id": "USP0Im3Sjaci"
      },
      "source": [],
      "execution_count": null,
      "outputs": []
    },
    {
      "cell_type": "code",
      "metadata": {
        "id": "88W00KNLjrV8"
      },
      "source": [
        "if(dateFinder.match('-12-32-1212 :')):\n",
        "  print(\"hello world\")"
      ],
      "execution_count": null,
      "outputs": []
    },
    {
      "cell_type": "code",
      "metadata": {
        "id": "eh70QwnxVgS8"
      },
      "source": [
        "#data['NetFare'] = data['NetFare'].map((lambda x: x*x)(float(x)) for x in range(10))"
      ],
      "execution_count": null,
      "outputs": []
    },
    {
      "cell_type": "code",
      "metadata": {
        "id": "F7RusTFBjuIC"
      },
      "source": [],
      "execution_count": null,
      "outputs": []
    },
    {
      "cell_type": "code",
      "metadata": {
        "id": "kTjPaeVFVu_x",
        "colab": {
          "base_uri": "https://localhost:8080/",
          "height": 385
        },
        "outputId": "9aae5a8a-e619-4608-d4ad-0011ca1fbbd7"
      },
      "source": [
        "dateFinder = re.compile('[0-9]{2}-[0-9]{2}.+')\n",
        "def FloatConverter(x):\n",
        "  if type(x)!= float:\n",
        "    if (dateFinder.match(x)):\n",
        "      return np.nan\n",
        "    else:\n",
        "      return float(x)\n",
        "  else:\n",
        "    return np.nan\n",
        "\n",
        "data['NetFare'] = data['NetFare'].apply(FloatConverter)"
      ],
      "execution_count": null,
      "outputs": [
        {
          "output_type": "error",
          "ename": "TypeError",
          "evalue": "ignored",
          "traceback": [
            "\u001b[0;31m---------------------------------------------------------------------------\u001b[0m",
            "\u001b[0;31mTypeError\u001b[0m                                 Traceback (most recent call last)",
            "\u001b[0;32m<ipython-input-67-155c62b41798>\u001b[0m in \u001b[0;36m<module>\u001b[0;34m()\u001b[0m\n\u001b[1;32m      9\u001b[0m     \u001b[0;32mreturn\u001b[0m \u001b[0mnp\u001b[0m\u001b[0;34m.\u001b[0m\u001b[0mnan\u001b[0m\u001b[0;34m\u001b[0m\u001b[0;34m\u001b[0m\u001b[0m\n\u001b[1;32m     10\u001b[0m \u001b[0;34m\u001b[0m\u001b[0m\n\u001b[0;32m---> 11\u001b[0;31m \u001b[0mdata\u001b[0m\u001b[0;34m[\u001b[0m\u001b[0;34m'NetFare'\u001b[0m\u001b[0;34m]\u001b[0m \u001b[0;34m=\u001b[0m \u001b[0mdata\u001b[0m\u001b[0;34m[\u001b[0m\u001b[0;34m'NetFare'\u001b[0m\u001b[0;34m]\u001b[0m\u001b[0;34m.\u001b[0m\u001b[0mapply\u001b[0m\u001b[0;34m(\u001b[0m\u001b[0mFloatConverter\u001b[0m\u001b[0;34m)\u001b[0m\u001b[0;34m\u001b[0m\u001b[0;34m\u001b[0m\u001b[0m\n\u001b[0m",
            "\u001b[0;32m/usr/local/lib/python3.6/dist-packages/pandas/core/series.py\u001b[0m in \u001b[0;36mapply\u001b[0;34m(self, func, convert_dtype, args, **kwds)\u001b[0m\n\u001b[1;32m   3846\u001b[0m             \u001b[0;32melse\u001b[0m\u001b[0;34m:\u001b[0m\u001b[0;34m\u001b[0m\u001b[0;34m\u001b[0m\u001b[0m\n\u001b[1;32m   3847\u001b[0m                 \u001b[0mvalues\u001b[0m \u001b[0;34m=\u001b[0m \u001b[0mself\u001b[0m\u001b[0;34m.\u001b[0m\u001b[0mastype\u001b[0m\u001b[0;34m(\u001b[0m\u001b[0mobject\u001b[0m\u001b[0;34m)\u001b[0m\u001b[0;34m.\u001b[0m\u001b[0mvalues\u001b[0m\u001b[0;34m\u001b[0m\u001b[0;34m\u001b[0m\u001b[0m\n\u001b[0;32m-> 3848\u001b[0;31m                 \u001b[0mmapped\u001b[0m \u001b[0;34m=\u001b[0m \u001b[0mlib\u001b[0m\u001b[0;34m.\u001b[0m\u001b[0mmap_infer\u001b[0m\u001b[0;34m(\u001b[0m\u001b[0mvalues\u001b[0m\u001b[0;34m,\u001b[0m \u001b[0mf\u001b[0m\u001b[0;34m,\u001b[0m \u001b[0mconvert\u001b[0m\u001b[0;34m=\u001b[0m\u001b[0mconvert_dtype\u001b[0m\u001b[0;34m)\u001b[0m\u001b[0;34m\u001b[0m\u001b[0;34m\u001b[0m\u001b[0m\n\u001b[0m\u001b[1;32m   3849\u001b[0m \u001b[0;34m\u001b[0m\u001b[0m\n\u001b[1;32m   3850\u001b[0m         \u001b[0;32mif\u001b[0m \u001b[0mlen\u001b[0m\u001b[0;34m(\u001b[0m\u001b[0mmapped\u001b[0m\u001b[0;34m)\u001b[0m \u001b[0;32mand\u001b[0m \u001b[0misinstance\u001b[0m\u001b[0;34m(\u001b[0m\u001b[0mmapped\u001b[0m\u001b[0;34m[\u001b[0m\u001b[0;36m0\u001b[0m\u001b[0;34m]\u001b[0m\u001b[0;34m,\u001b[0m \u001b[0mSeries\u001b[0m\u001b[0;34m)\u001b[0m\u001b[0;34m:\u001b[0m\u001b[0;34m\u001b[0m\u001b[0;34m\u001b[0m\u001b[0m\n",
            "\u001b[0;32mpandas/_libs/lib.pyx\u001b[0m in \u001b[0;36mpandas._libs.lib.map_infer\u001b[0;34m()\u001b[0m\n",
            "\u001b[0;32m<ipython-input-67-155c62b41798>\u001b[0m in \u001b[0;36mFloatConverter\u001b[0;34m(x)\u001b[0m\n\u001b[1;32m      2\u001b[0m \u001b[0;32mdef\u001b[0m \u001b[0mFloatConverter\u001b[0m\u001b[0;34m(\u001b[0m\u001b[0mx\u001b[0m\u001b[0;34m)\u001b[0m\u001b[0;34m:\u001b[0m\u001b[0;34m\u001b[0m\u001b[0;34m\u001b[0m\u001b[0m\n\u001b[1;32m      3\u001b[0m   \u001b[0;32mif\u001b[0m \u001b[0mtype\u001b[0m\u001b[0;34m(\u001b[0m\u001b[0mx\u001b[0m\u001b[0;34m)\u001b[0m\u001b[0;34m!=\u001b[0m \u001b[0mfloat\u001b[0m\u001b[0;34m:\u001b[0m\u001b[0;34m\u001b[0m\u001b[0;34m\u001b[0m\u001b[0m\n\u001b[0;32m----> 4\u001b[0;31m     \u001b[0;32mif\u001b[0m \u001b[0;34m(\u001b[0m\u001b[0mdateFinder\u001b[0m\u001b[0;34m.\u001b[0m\u001b[0mmatch\u001b[0m\u001b[0;34m(\u001b[0m\u001b[0mx\u001b[0m\u001b[0;34m)\u001b[0m\u001b[0;34m)\u001b[0m\u001b[0;34m:\u001b[0m\u001b[0;34m\u001b[0m\u001b[0;34m\u001b[0m\u001b[0m\n\u001b[0m\u001b[1;32m      5\u001b[0m       \u001b[0;32mreturn\u001b[0m \u001b[0mnp\u001b[0m\u001b[0;34m.\u001b[0m\u001b[0mnan\u001b[0m\u001b[0;34m\u001b[0m\u001b[0;34m\u001b[0m\u001b[0m\n\u001b[1;32m      6\u001b[0m     \u001b[0;32melse\u001b[0m\u001b[0;34m:\u001b[0m\u001b[0;34m\u001b[0m\u001b[0;34m\u001b[0m\u001b[0m\n",
            "\u001b[0;31mTypeError\u001b[0m: expected string or bytes-like object"
          ]
        }
      ]
    },
    {
      "cell_type": "code",
      "metadata": {
        "id": "TokGHIPYVwQq",
        "colab": {
          "base_uri": "https://localhost:8080/",
          "height": 315
        },
        "outputId": "8e113634-27a9-43db-f7eb-227f93f315bf"
      },
      "source": [
        "data['NetFare'] = data['NetFare'].astype(float)"
      ],
      "execution_count": null,
      "outputs": [
        {
          "output_type": "error",
          "ename": "ValueError",
          "evalue": "ignored",
          "traceback": [
            "\u001b[0;31m---------------------------------------------------------------------------\u001b[0m",
            "\u001b[0;31mValueError\u001b[0m                                Traceback (most recent call last)",
            "\u001b[0;32m<ipython-input-69-df0ea64f15a6>\u001b[0m in \u001b[0;36m<module>\u001b[0;34m()\u001b[0m\n\u001b[0;32m----> 1\u001b[0;31m \u001b[0mdata\u001b[0m\u001b[0;34m[\u001b[0m\u001b[0;34m'NetFare'\u001b[0m\u001b[0;34m]\u001b[0m \u001b[0;34m=\u001b[0m \u001b[0mdata\u001b[0m\u001b[0;34m[\u001b[0m\u001b[0;34m'NetFare'\u001b[0m\u001b[0;34m]\u001b[0m\u001b[0;34m.\u001b[0m\u001b[0mastype\u001b[0m\u001b[0;34m(\u001b[0m\u001b[0mfloat\u001b[0m\u001b[0;34m)\u001b[0m\u001b[0;34m\u001b[0m\u001b[0;34m\u001b[0m\u001b[0m\n\u001b[0m",
            "\u001b[0;32m/usr/local/lib/python3.6/dist-packages/pandas/core/generic.py\u001b[0m in \u001b[0;36mastype\u001b[0;34m(self, dtype, copy, errors)\u001b[0m\n\u001b[1;32m   5696\u001b[0m         \u001b[0;32melse\u001b[0m\u001b[0;34m:\u001b[0m\u001b[0;34m\u001b[0m\u001b[0;34m\u001b[0m\u001b[0m\n\u001b[1;32m   5697\u001b[0m             \u001b[0;31m# else, only a single dtype is given\u001b[0m\u001b[0;34m\u001b[0m\u001b[0;34m\u001b[0m\u001b[0;34m\u001b[0m\u001b[0m\n\u001b[0;32m-> 5698\u001b[0;31m             \u001b[0mnew_data\u001b[0m \u001b[0;34m=\u001b[0m \u001b[0mself\u001b[0m\u001b[0;34m.\u001b[0m\u001b[0m_data\u001b[0m\u001b[0;34m.\u001b[0m\u001b[0mastype\u001b[0m\u001b[0;34m(\u001b[0m\u001b[0mdtype\u001b[0m\u001b[0;34m=\u001b[0m\u001b[0mdtype\u001b[0m\u001b[0;34m,\u001b[0m \u001b[0mcopy\u001b[0m\u001b[0;34m=\u001b[0m\u001b[0mcopy\u001b[0m\u001b[0;34m,\u001b[0m \u001b[0merrors\u001b[0m\u001b[0;34m=\u001b[0m\u001b[0merrors\u001b[0m\u001b[0;34m)\u001b[0m\u001b[0;34m\u001b[0m\u001b[0;34m\u001b[0m\u001b[0m\n\u001b[0m\u001b[1;32m   5699\u001b[0m             \u001b[0;32mreturn\u001b[0m \u001b[0mself\u001b[0m\u001b[0;34m.\u001b[0m\u001b[0m_constructor\u001b[0m\u001b[0;34m(\u001b[0m\u001b[0mnew_data\u001b[0m\u001b[0;34m)\u001b[0m\u001b[0;34m.\u001b[0m\u001b[0m__finalize__\u001b[0m\u001b[0;34m(\u001b[0m\u001b[0mself\u001b[0m\u001b[0;34m)\u001b[0m\u001b[0;34m\u001b[0m\u001b[0;34m\u001b[0m\u001b[0m\n\u001b[1;32m   5700\u001b[0m \u001b[0;34m\u001b[0m\u001b[0m\n",
            "\u001b[0;32m/usr/local/lib/python3.6/dist-packages/pandas/core/internals/managers.py\u001b[0m in \u001b[0;36mastype\u001b[0;34m(self, dtype, copy, errors)\u001b[0m\n\u001b[1;32m    580\u001b[0m \u001b[0;34m\u001b[0m\u001b[0m\n\u001b[1;32m    581\u001b[0m     \u001b[0;32mdef\u001b[0m \u001b[0mastype\u001b[0m\u001b[0;34m(\u001b[0m\u001b[0mself\u001b[0m\u001b[0;34m,\u001b[0m \u001b[0mdtype\u001b[0m\u001b[0;34m,\u001b[0m \u001b[0mcopy\u001b[0m\u001b[0;34m:\u001b[0m \u001b[0mbool\u001b[0m \u001b[0;34m=\u001b[0m \u001b[0;32mFalse\u001b[0m\u001b[0;34m,\u001b[0m \u001b[0merrors\u001b[0m\u001b[0;34m:\u001b[0m \u001b[0mstr\u001b[0m \u001b[0;34m=\u001b[0m \u001b[0;34m\"raise\"\u001b[0m\u001b[0;34m)\u001b[0m\u001b[0;34m:\u001b[0m\u001b[0;34m\u001b[0m\u001b[0;34m\u001b[0m\u001b[0m\n\u001b[0;32m--> 582\u001b[0;31m         \u001b[0;32mreturn\u001b[0m \u001b[0mself\u001b[0m\u001b[0;34m.\u001b[0m\u001b[0mapply\u001b[0m\u001b[0;34m(\u001b[0m\u001b[0;34m\"astype\"\u001b[0m\u001b[0;34m,\u001b[0m \u001b[0mdtype\u001b[0m\u001b[0;34m=\u001b[0m\u001b[0mdtype\u001b[0m\u001b[0;34m,\u001b[0m \u001b[0mcopy\u001b[0m\u001b[0;34m=\u001b[0m\u001b[0mcopy\u001b[0m\u001b[0;34m,\u001b[0m \u001b[0merrors\u001b[0m\u001b[0;34m=\u001b[0m\u001b[0merrors\u001b[0m\u001b[0;34m)\u001b[0m\u001b[0;34m\u001b[0m\u001b[0;34m\u001b[0m\u001b[0m\n\u001b[0m\u001b[1;32m    583\u001b[0m \u001b[0;34m\u001b[0m\u001b[0m\n\u001b[1;32m    584\u001b[0m     \u001b[0;32mdef\u001b[0m \u001b[0mconvert\u001b[0m\u001b[0;34m(\u001b[0m\u001b[0mself\u001b[0m\u001b[0;34m,\u001b[0m \u001b[0;34m**\u001b[0m\u001b[0mkwargs\u001b[0m\u001b[0;34m)\u001b[0m\u001b[0;34m:\u001b[0m\u001b[0;34m\u001b[0m\u001b[0;34m\u001b[0m\u001b[0m\n",
            "\u001b[0;32m/usr/local/lib/python3.6/dist-packages/pandas/core/internals/managers.py\u001b[0m in \u001b[0;36mapply\u001b[0;34m(self, f, filter, **kwargs)\u001b[0m\n\u001b[1;32m    440\u001b[0m                 \u001b[0mapplied\u001b[0m \u001b[0;34m=\u001b[0m \u001b[0mb\u001b[0m\u001b[0;34m.\u001b[0m\u001b[0mapply\u001b[0m\u001b[0;34m(\u001b[0m\u001b[0mf\u001b[0m\u001b[0;34m,\u001b[0m \u001b[0;34m**\u001b[0m\u001b[0mkwargs\u001b[0m\u001b[0;34m)\u001b[0m\u001b[0;34m\u001b[0m\u001b[0;34m\u001b[0m\u001b[0m\n\u001b[1;32m    441\u001b[0m             \u001b[0;32melse\u001b[0m\u001b[0;34m:\u001b[0m\u001b[0;34m\u001b[0m\u001b[0;34m\u001b[0m\u001b[0m\n\u001b[0;32m--> 442\u001b[0;31m                 \u001b[0mapplied\u001b[0m \u001b[0;34m=\u001b[0m \u001b[0mgetattr\u001b[0m\u001b[0;34m(\u001b[0m\u001b[0mb\u001b[0m\u001b[0;34m,\u001b[0m \u001b[0mf\u001b[0m\u001b[0;34m)\u001b[0m\u001b[0;34m(\u001b[0m\u001b[0;34m**\u001b[0m\u001b[0mkwargs\u001b[0m\u001b[0;34m)\u001b[0m\u001b[0;34m\u001b[0m\u001b[0;34m\u001b[0m\u001b[0m\n\u001b[0m\u001b[1;32m    443\u001b[0m             \u001b[0mresult_blocks\u001b[0m \u001b[0;34m=\u001b[0m \u001b[0m_extend_blocks\u001b[0m\u001b[0;34m(\u001b[0m\u001b[0mapplied\u001b[0m\u001b[0;34m,\u001b[0m \u001b[0mresult_blocks\u001b[0m\u001b[0;34m)\u001b[0m\u001b[0;34m\u001b[0m\u001b[0;34m\u001b[0m\u001b[0m\n\u001b[1;32m    444\u001b[0m \u001b[0;34m\u001b[0m\u001b[0m\n",
            "\u001b[0;32m/usr/local/lib/python3.6/dist-packages/pandas/core/internals/blocks.py\u001b[0m in \u001b[0;36mastype\u001b[0;34m(self, dtype, copy, errors)\u001b[0m\n\u001b[1;32m    623\u001b[0m             \u001b[0mvals1d\u001b[0m \u001b[0;34m=\u001b[0m \u001b[0mvalues\u001b[0m\u001b[0;34m.\u001b[0m\u001b[0mravel\u001b[0m\u001b[0;34m(\u001b[0m\u001b[0;34m)\u001b[0m\u001b[0;34m\u001b[0m\u001b[0;34m\u001b[0m\u001b[0m\n\u001b[1;32m    624\u001b[0m             \u001b[0;32mtry\u001b[0m\u001b[0;34m:\u001b[0m\u001b[0;34m\u001b[0m\u001b[0;34m\u001b[0m\u001b[0m\n\u001b[0;32m--> 625\u001b[0;31m                 \u001b[0mvalues\u001b[0m \u001b[0;34m=\u001b[0m \u001b[0mastype_nansafe\u001b[0m\u001b[0;34m(\u001b[0m\u001b[0mvals1d\u001b[0m\u001b[0;34m,\u001b[0m \u001b[0mdtype\u001b[0m\u001b[0;34m,\u001b[0m \u001b[0mcopy\u001b[0m\u001b[0;34m=\u001b[0m\u001b[0;32mTrue\u001b[0m\u001b[0;34m)\u001b[0m\u001b[0;34m\u001b[0m\u001b[0;34m\u001b[0m\u001b[0m\n\u001b[0m\u001b[1;32m    626\u001b[0m             \u001b[0;32mexcept\u001b[0m \u001b[0;34m(\u001b[0m\u001b[0mValueError\u001b[0m\u001b[0;34m,\u001b[0m \u001b[0mTypeError\u001b[0m\u001b[0;34m)\u001b[0m\u001b[0;34m:\u001b[0m\u001b[0;34m\u001b[0m\u001b[0;34m\u001b[0m\u001b[0m\n\u001b[1;32m    627\u001b[0m                 \u001b[0;31m# e.g. astype_nansafe can fail on object-dtype of strings\u001b[0m\u001b[0;34m\u001b[0m\u001b[0;34m\u001b[0m\u001b[0;34m\u001b[0m\u001b[0m\n",
            "\u001b[0;32m/usr/local/lib/python3.6/dist-packages/pandas/core/dtypes/cast.py\u001b[0m in \u001b[0;36mastype_nansafe\u001b[0;34m(arr, dtype, copy, skipna)\u001b[0m\n\u001b[1;32m    895\u001b[0m     \u001b[0;32mif\u001b[0m \u001b[0mcopy\u001b[0m \u001b[0;32mor\u001b[0m \u001b[0mis_object_dtype\u001b[0m\u001b[0;34m(\u001b[0m\u001b[0marr\u001b[0m\u001b[0;34m)\u001b[0m \u001b[0;32mor\u001b[0m \u001b[0mis_object_dtype\u001b[0m\u001b[0;34m(\u001b[0m\u001b[0mdtype\u001b[0m\u001b[0;34m)\u001b[0m\u001b[0;34m:\u001b[0m\u001b[0;34m\u001b[0m\u001b[0;34m\u001b[0m\u001b[0m\n\u001b[1;32m    896\u001b[0m         \u001b[0;31m# Explicit copy, or required since NumPy can't view from / to object.\u001b[0m\u001b[0;34m\u001b[0m\u001b[0;34m\u001b[0m\u001b[0;34m\u001b[0m\u001b[0m\n\u001b[0;32m--> 897\u001b[0;31m         \u001b[0;32mreturn\u001b[0m \u001b[0marr\u001b[0m\u001b[0;34m.\u001b[0m\u001b[0mastype\u001b[0m\u001b[0;34m(\u001b[0m\u001b[0mdtype\u001b[0m\u001b[0;34m,\u001b[0m \u001b[0mcopy\u001b[0m\u001b[0;34m=\u001b[0m\u001b[0;32mTrue\u001b[0m\u001b[0;34m)\u001b[0m\u001b[0;34m\u001b[0m\u001b[0;34m\u001b[0m\u001b[0m\n\u001b[0m\u001b[1;32m    898\u001b[0m \u001b[0;34m\u001b[0m\u001b[0m\n\u001b[1;32m    899\u001b[0m     \u001b[0;32mreturn\u001b[0m \u001b[0marr\u001b[0m\u001b[0;34m.\u001b[0m\u001b[0mview\u001b[0m\u001b[0;34m(\u001b[0m\u001b[0mdtype\u001b[0m\u001b[0;34m)\u001b[0m\u001b[0;34m\u001b[0m\u001b[0;34m\u001b[0m\u001b[0m\n",
            "\u001b[0;31mValueError\u001b[0m: could not convert string to float: '06-06-2019 17:08'"
          ]
        }
      ]
    },
    {
      "cell_type": "code",
      "metadata": {
        "id": "8jBtVqsdV7Rq",
        "colab": {
          "base_uri": "https://localhost:8080/"
        },
        "outputId": "1242441c-c548-407d-e34e-28d575c8e2b9"
      },
      "source": [
        "type(data['NetFare'][0])"
      ],
      "execution_count": null,
      "outputs": [
        {
          "output_type": "execute_result",
          "data": {
            "text/plain": [
              "float"
            ]
          },
          "metadata": {
            "tags": []
          },
          "execution_count": 70
        }
      ]
    },
    {
      "cell_type": "code",
      "metadata": {
        "id": "YbWNIPNLiM9R",
        "colab": {
          "base_uri": "https://localhost:8080/",
          "height": 105
        },
        "outputId": "7294aa02-7781-499d-e3ce-559ed2757892"
      },
      "source": [
        "data['NetFare'].describe().transpose()"
      ],
      "execution_count": null,
      "outputs": [
        {
          "output_type": "execute_result",
          "data": {
            "text/plain": [
              "count     217576.0\n",
              "unique     31033.0\n",
              "top            0.0\n",
              "freq       21931.0\n",
              "Name: NetFare, dtype: float64"
            ]
          },
          "metadata": {
            "tags": []
          },
          "execution_count": 71
        }
      ]
    },
    {
      "cell_type": "code",
      "metadata": {
        "id": "SgybEaD-jFDY",
        "colab": {
          "base_uri": "https://localhost:8080/",
          "height": 35
        },
        "outputId": "c1de98d4-61af-47b4-97f3-d8d345e49053"
      },
      "source": [
        "data['NetFare'].isna().sum()"
      ],
      "execution_count": null,
      "outputs": [
        {
          "output_type": "execute_result",
          "data": {
            "text/plain": [
              "60890"
            ]
          },
          "metadata": {
            "tags": []
          },
          "execution_count": 72
        }
      ]
    },
    {
      "cell_type": "code",
      "metadata": {
        "id": "Jk_bPM2BjsqX",
        "colab": {
          "base_uri": "https://localhost:8080/",
          "height": 35
        },
        "outputId": "02bfebe7-8f6e-4fb2-989a-3af1436cd9ae"
      },
      "source": [
        "print(\"Total % Null value in NetFare - \",data['NetFare'].isna().sum()/len(data)*100)"
      ],
      "execution_count": null,
      "outputs": [
        {
          "output_type": "stream",
          "text": [
            "Total % Null value in NetFare -  21.866224242816\n"
          ],
          "name": "stdout"
        }
      ]
    },
    {
      "cell_type": "code",
      "metadata": {
        "id": "GbUVTYyvj64B",
        "colab": {
          "base_uri": "https://localhost:8080/",
          "height": 193
        },
        "outputId": "2606777e-cecc-47ad-db25-ce08387bfc92"
      },
      "source": [
        "for x in data.columns:\n",
        "  print(\"Total % Null value in \"+x+\" - \",data[x].isna().sum()/len(data)*100)\n",
        "  print()"
      ],
      "execution_count": null,
      "outputs": [
        {
          "output_type": "stream",
          "text": [
            "Total % Null value in InvoiceDate -  0.0007182205367980292\n",
            "\n",
            "Total % Null value in NetFare -  21.866224242816\n",
            "\n",
            "Total % Null value in ProductType -  0.0007182205367980292\n",
            "\n",
            "Total % Null value in ItineraryType -  11.770557267314501\n",
            "\n",
            "Total % Null value in InvoiceTime -  0.0007182205367980292\n",
            "\n"
          ],
          "name": "stdout"
        }
      ]
    },
    {
      "cell_type": "code",
      "metadata": {
        "id": "CT3zGTWeNEGo",
        "colab": {
          "base_uri": "https://localhost:8080/",
          "height": 105
        },
        "outputId": "ada08f99-4b94-45ee-8b3c-3422d637eaa9"
      },
      "source": [
        "data['NetFare'].describe()"
      ],
      "execution_count": null,
      "outputs": [
        {
          "output_type": "execute_result",
          "data": {
            "text/plain": [
              "count     217576.0\n",
              "unique     31033.0\n",
              "top            0.0\n",
              "freq       21931.0\n",
              "Name: NetFare, dtype: float64"
            ]
          },
          "metadata": {
            "tags": []
          },
          "execution_count": 75
        }
      ]
    },
    {
      "cell_type": "markdown",
      "metadata": {
        "id": "frgNFqnXZwTz"
      },
      "source": [
        "WE can see the Standard Deviation is very far higher than the mean and most of the data are under the 75% percentile and the max value is 49k+\n",
        "\n",
        "> Indented block\n",
        "\n",
        "\n",
        "Reason it can be \n",
        "Domestic and International fights have different price range \n",
        "So we will divide the Domestic and International NetFare value different and then we will analysis the Stats of the NetFare Column"
      ]
    },
    {
      "cell_type": "code",
      "metadata": {
        "id": "Sz30kDPzmsng",
        "colab": {
          "base_uri": "https://localhost:8080/",
          "height": 316
        },
        "outputId": "f92df7f5-3808-444e-d950-d91ed5ab3774"
      },
      "source": [
        "def DomesticFlight(values):\n",
        "\n",
        "  domestic_fare = values[values['ItineraryType']=='Domestic']['NetFare']\n",
        "  print('-'*10,'Domestic Flight Fare','-'*10,'\\n')\n",
        "  print(domestic_fare.describe())\n",
        "\n",
        "  domestic_air_fare = values[(values['ItineraryType']=='Domestic')&(values['ProductType']=='Air')]['NetFare']\n",
        "  print('\\n\\n','-'*10,'Domestic Flight Fare with Air Variable','-'*10,'\\n')\n",
        "  print(domestic_air_fare.describe())\n",
        "\n",
        "  print(round(domestic_air_fare.describe()[1]))\n",
        "  \n",
        "  # returning the DomesticAirFare mean value\n",
        "  return round(domestic_air_fare.describe()[1])\n",
        "\n",
        "\n",
        "\n",
        "Dom_mean = DomesticFlight(data)"
      ],
      "execution_count": null,
      "outputs": [
        {
          "output_type": "stream",
          "text": [
            "---------- Domestic Flight Fare ---------- \n",
            "\n",
            "count     170387.0\n",
            "unique     26295.0\n",
            "top           10.0\n",
            "freq        5283.0\n",
            "Name: NetFare, dtype: float64\n",
            "\n",
            "\n",
            " ---------- Domestic Flight Fare with Air Variable ---------- \n",
            "\n",
            "count     141234\n",
            "unique     22850\n",
            "top            0\n",
            "freq         532\n",
            "Name: NetFare, dtype: object\n",
            "22850\n"
          ],
          "name": "stdout"
        }
      ]
    },
    {
      "cell_type": "code",
      "metadata": {
        "id": "Pa4skcYMnZkf",
        "colab": {
          "base_uri": "https://localhost:8080/",
          "height": 316
        },
        "outputId": "4f9d55e3-b989-450d-c16d-00dfa76fc7f6"
      },
      "source": [
        "def InternationalFlight(values):\n",
        "\n",
        "  international_fare = values[values['ItineraryType']=='International']['NetFare']\n",
        "  print('-'*10,'International Flight Fare','-'*10,'\\n')\n",
        "  print(international_fare.describe())\n",
        "\n",
        "  international_air_fare = values[(values['ItineraryType']=='International')&(values['ProductType']=='Air')]['NetFare']\n",
        "  print('\\n\\n','-'*10,'International Flight Fare with Air Variable','-'*10,'\\n')\n",
        "  print(international_air_fare.describe())\n",
        "\n",
        "  print(round(international_air_fare.describe()[1]))\n",
        "  \n",
        "  # returning the International Air Fare mean value\n",
        "  return round(international_air_fare.describe()[1])\n",
        "\n",
        "\n",
        "\n",
        "Inter_mean = InternationalFlight(data)"
      ],
      "execution_count": null,
      "outputs": [
        {
          "output_type": "stream",
          "text": [
            "---------- International Flight Fare ---------- \n",
            "\n",
            "count     14413.0\n",
            "unique     7022.0\n",
            "top          10.0\n",
            "freq        923.0\n",
            "Name: NetFare, dtype: float64\n",
            "\n",
            "\n",
            " ---------- International Flight Fare with Air Variable ---------- \n",
            "\n",
            "count     10761.0\n",
            "unique     5994.0\n",
            "top           0.0\n",
            "freq         93.0\n",
            "Name: NetFare, dtype: float64\n",
            "5994.0\n"
          ],
          "name": "stdout"
        }
      ]
    },
    {
      "cell_type": "code",
      "metadata": {
        "id": "hZE5dhtatI9l",
        "colab": {
          "base_uri": "https://localhost:8080/",
          "height": 35
        },
        "outputId": "c297f437-7817-4ae2-e546-3d932f131626"
      },
      "source": [
        "data[data['NetFare']==0]['NetFare'].count() # Total Number of Zero Value in the NetFare Col"
      ],
      "execution_count": null,
      "outputs": [
        {
          "output_type": "execute_result",
          "data": {
            "text/plain": [
              "21931"
            ]
          },
          "metadata": {
            "tags": []
          },
          "execution_count": 78
        }
      ]
    },
    {
      "cell_type": "code",
      "metadata": {
        "id": "iDqP4ohNohyL",
        "colab": {
          "base_uri": "https://localhost:8080/",
          "height": 35
        },
        "outputId": "72c3d348-e467-4b12-910e-2933c0b86a53"
      },
      "source": [
        "data[(data['NetFare']==0) & (data['ItineraryType']=='Domestic')]['ItineraryType'].count()\n",
        "#Total Number of Zero Values for the Corresponding ItineraryType (Domestic)"
      ],
      "execution_count": null,
      "outputs": [
        {
          "output_type": "execute_result",
          "data": {
            "text/plain": [
              "507"
            ]
          },
          "metadata": {
            "tags": []
          },
          "execution_count": 79
        }
      ]
    },
    {
      "cell_type": "code",
      "metadata": {
        "id": "qbI7_lO_pr9h",
        "colab": {
          "base_uri": "https://localhost:8080/",
          "height": 35
        },
        "outputId": "25ba0ae2-c933-4b1f-9a0e-dc889aad0ff2"
      },
      "source": [
        "data[(data['NetFare']==0) & (data['ItineraryType']=='International')]['ItineraryType'].count()\n",
        "#Total Number of Zero Values for the Corresponding ItineraryType (International)"
      ],
      "execution_count": null,
      "outputs": [
        {
          "output_type": "execute_result",
          "data": {
            "text/plain": [
              "95"
            ]
          },
          "metadata": {
            "tags": []
          },
          "execution_count": 80
        }
      ]
    },
    {
      "cell_type": "code",
      "metadata": {
        "id": "M25xqlI_nlai"
      },
      "source": [
        "def ItineraryTypeCheckingClass(allData):\n",
        "  for x in allData['ItineraryType']:\n",
        "    if(x==np.nan):\n",
        "      print(x)\n",
        "    elif(x!='Domestic') and (x!='International'):\n",
        "      print(x)\n",
        "      print(type(x))\n",
        "      break\n",
        "    elif(x=='Domestic'):\n",
        "      print(x)\n",
        "      print(type(x))\n",
        "      print()\n",
        "    elif(x=='International'):\n",
        "      print(x)\n",
        "      print(type(x))\n",
        "      print()\n",
        "\n",
        "  #we can see that Missing value in this column is Float type and others are string type\n",
        "\n",
        "#ItineraryTypeCheckingClass(data)"
      ],
      "execution_count": null,
      "outputs": []
    },
    {
      "cell_type": "code",
      "metadata": {
        "id": "zEkfiqPQnq1a"
      },
      "source": [
        "def ReplacingFloatToNaN(Datas):\n",
        "  i=1\n",
        "  for x in range(len(Datas['ItineraryType'])):\n",
        "    if(type(data.iloc[x,3])== float):\n",
        "      data.iloc[x,3] = np.nan\n",
        "\n",
        "#ReplacingFloatToNaN(data)"
      ],
      "execution_count": null,
      "outputs": []
    },
    {
      "cell_type": "code",
      "metadata": {
        "id": "PO-dkrLirWJY"
      },
      "source": [
        "#data['ItineraryType'].fillna(method='ffill',inplace=True)"
      ],
      "execution_count": null,
      "outputs": []
    },
    {
      "cell_type": "code",
      "metadata": {
        "id": "zVTr06DbnuvF"
      },
      "source": [
        "def ReplaceItineraryTypeNaNValue(values):\n",
        "  for x in range(len(values['ItineraryType'])):\n",
        "    if(type(values.iloc[x,3])==float):\n",
        "      \n",
        "      if((values.iloc[x,1]) <= 6500):\n",
        "        values.iloc[x,3] = 'Domestic'\n",
        "\n",
        "      if((values.iloc[x,1]) > 6500):\n",
        "        values.iloc[x,3] ='International'\n",
        "  \n",
        "  return values\n",
        "      \n",
        "\n",
        "#data = ReplaceItineraryTypeNaNValue(data)"
      ],
      "execution_count": null,
      "outputs": []
    },
    {
      "cell_type": "markdown",
      "metadata": {
        "id": "PsNZ2vfpvasf"
      },
      "source": [
        "We successfully fill the ITINERARY TYPE column \n",
        "\n",
        "Now we will fill the NETFARE column\n",
        "\n",
        "We will use simple aproach to the NaN value \n",
        "\n",
        "If we find NaN value in the NETFARE then we check Corresponding ItineraryType column and if the Value of that column is \n",
        "\n",
        "DOMESTIC than we will replace with DomesticFlight Mean value \n",
        "\n",
        "If, International value then we will replace with InternationalFlight Mean Value"
      ]
    },
    {
      "cell_type": "code",
      "metadata": {
        "id": "bmHqVA4-vZjb"
      },
      "source": [],
      "execution_count": null,
      "outputs": []
    },
    {
      "cell_type": "code",
      "metadata": {
        "id": "BzA6cyein2yi"
      },
      "source": [
        "def FillingNaNValuesOfFlights(values,DomesticMean,InterMean):\n",
        "  \n",
        "  for x in range(len(values['NetFare'])):\n",
        "    if(math.isnan(values.iloc[x,1])):\n",
        "\n",
        "      if(values.iloc[x,3]=='Domestic'):\n",
        "        values.iloc[x,1] = DomesticMean\n",
        "      \n",
        "      elif(values.iloc[x,3]== 'International'):\n",
        "        values.iloc[x,1] = Inter_mean\n",
        "    \n",
        "  \n",
        "  return values\n",
        "      \n",
        "\n",
        "\n",
        "\n",
        "data = FillingNaNValuesOfFlights(data,Dom_mean,Inter_mean)"
      ],
      "execution_count": null,
      "outputs": []
    },
    {
      "cell_type": "code",
      "metadata": {
        "id": "VKC2iabF1Ngc"
      },
      "source": [
        "d = DomesticFlight(data). # Filled  NaN with threshold value"
      ],
      "execution_count": null,
      "outputs": []
    },
    {
      "cell_type": "code",
      "metadata": {
        "id": "cORgb7bfsKXE"
      },
      "source": [
        "#d = DomesticFlight(data) # Filled with Foward Method"
      ],
      "execution_count": null,
      "outputs": []
    },
    {
      "cell_type": "markdown",
      "metadata": {
        "id": "bInp-W8v1rmm"
      },
      "source": [
        "If we compare the Before and After Filling the NaN values of the NetFare Column \n",
        "we can see that the mean value is not affected \n",
        "\n",
        "so we can go with this "
      ]
    },
    {
      "cell_type": "code",
      "metadata": {
        "id": "9BR_oFAivV1t"
      },
      "source": [
        "for x in data.columns:\n",
        "  print(\"Total % Null value in \"+x+\" - \",data[x].isna().sum()/len(data)*100)\n",
        "  print()"
      ],
      "execution_count": null,
      "outputs": []
    },
    {
      "cell_type": "markdown",
      "metadata": {
        "id": "8OOj3Dhg7DR8"
      },
      "source": [
        "That 0.00071 Missing % is just 2 Values are missing so we can afford to delete those row from the dataset"
      ]
    },
    {
      "cell_type": "code",
      "metadata": {
        "id": "pVgkA2eY3WVX"
      },
      "source": [
        "data.dropna(inplace = True)"
      ],
      "execution_count": null,
      "outputs": []
    },
    {
      "cell_type": "code",
      "metadata": {
        "id": "gMttNxu3xQDN"
      },
      "source": [
        "len(data)"
      ],
      "execution_count": null,
      "outputs": []
    },
    {
      "cell_type": "markdown",
      "metadata": {
        "id": "M8lZe9OIMel_"
      },
      "source": [
        "Year 1 = 2018\n",
        "Year 2 = 2019"
      ]
    },
    {
      "cell_type": "code",
      "metadata": {
        "id": "Y5ik8e4epAuu"
      },
      "source": [
        "data['InvoiceDate'].dt.year.value_counts()"
      ],
      "execution_count": null,
      "outputs": []
    },
    {
      "cell_type": "code",
      "metadata": {
        "id": "vy05qkWAGkpY"
      },
      "source": [
        "data['Year1']=data[data['InvoiceDate'].dt.year < 2019]['InvoiceDate'].dt.quarter"
      ],
      "execution_count": null,
      "outputs": []
    },
    {
      "cell_type": "code",
      "metadata": {
        "id": "6jUdXDPAMEx-"
      },
      "source": [
        "data['Year2']=data[data['InvoiceDate'].dt.year > 2018]['InvoiceDate'].dt.quarter"
      ],
      "execution_count": null,
      "outputs": []
    },
    {
      "cell_type": "code",
      "metadata": {
        "id": "aY9qzBZBMpj2"
      },
      "source": [
        "data.head(10)"
      ],
      "execution_count": null,
      "outputs": []
    },
    {
      "cell_type": "code",
      "metadata": {
        "id": "aI_qAysZol4u"
      },
      "source": [
        "data.tail(10)"
      ],
      "execution_count": null,
      "outputs": []
    },
    {
      "cell_type": "code",
      "metadata": {
        "id": "gltE8A7MU0lF"
      },
      "source": [
        "data.info()"
      ],
      "execution_count": null,
      "outputs": []
    },
    {
      "cell_type": "code",
      "metadata": {
        "id": "2iE7fP6V7xwo"
      },
      "source": [
        "#data['NetFare'].dropna(inplace = True)"
      ],
      "execution_count": null,
      "outputs": []
    },
    {
      "cell_type": "code",
      "metadata": {
        "id": "T4pknBgr74eH"
      },
      "source": [
        "#data['ProductType'].dropna(inplace = True)"
      ],
      "execution_count": null,
      "outputs": []
    },
    {
      "cell_type": "code",
      "metadata": {
        "id": "LsaLFaW277cU"
      },
      "source": [
        "#data['ItineraryType'].dropna(inplace = True)"
      ],
      "execution_count": null,
      "outputs": []
    },
    {
      "cell_type": "code",
      "metadata": {
        "id": "LGSeUhZh8oSA"
      },
      "source": [
        "#data['InvoiceTime'].dropna(inplace = True)"
      ],
      "execution_count": null,
      "outputs": []
    },
    {
      "cell_type": "code",
      "metadata": {
        "id": "_aLtmwpR7-m6"
      },
      "source": [
        "len(data) # Data Befor Droping the NaN Values(278466, 4)"
      ],
      "execution_count": null,
      "outputs": []
    },
    {
      "cell_type": "code",
      "metadata": {
        "id": "f5IyRvPT8Gfn"
      },
      "source": [
        "for x in data.columns:\n",
        "  print(\"Total % Null value in \"+x+\" - \",data[x].isna().sum()/len(data)*100)\n",
        "  print()"
      ],
      "execution_count": null,
      "outputs": []
    },
    {
      "cell_type": "code",
      "metadata": {
        "id": "zniGCJbj8PVk"
      },
      "source": [
        "data.describe().transpose()"
      ],
      "execution_count": null,
      "outputs": []
    },
    {
      "cell_type": "code",
      "metadata": {
        "id": "g3Ql2KXU88yo"
      },
      "source": [
        "data.describe(include='object').transpose()"
      ],
      "execution_count": null,
      "outputs": []
    },
    {
      "cell_type": "code",
      "metadata": {
        "id": "QK5_VLML9M0A"
      },
      "source": [
        "len(data.drop(['Year1','Year2'],1))"
      ],
      "execution_count": null,
      "outputs": []
    },
    {
      "cell_type": "code",
      "metadata": {
        "id": "Ok-4cX779VB0"
      },
      "source": [
        "data['InvoiceTime'] = pd.to_datetime(data['InvoiceTime'],format= '%H:%M:%S' ).dt.time"
      ],
      "execution_count": null,
      "outputs": []
    },
    {
      "cell_type": "code",
      "metadata": {
        "id": "st3fHdX0-VZX"
      },
      "source": [
        "type(data['InvoiceTime'][0])"
      ],
      "execution_count": null,
      "outputs": []
    },
    {
      "cell_type": "code",
      "metadata": {
        "id": "GL06v6ALMNIs"
      },
      "source": [
        "data.describe().transpose()"
      ],
      "execution_count": null,
      "outputs": []
    },
    {
      "cell_type": "code",
      "metadata": {
        "id": "xnRMHBNMMVjY"
      },
      "source": [
        "data.describe(include='object').transpose()"
      ],
      "execution_count": null,
      "outputs": []
    },
    {
      "cell_type": "code",
      "metadata": {
        "id": "MwpVbkgPMgDV"
      },
      "source": [
        "data"
      ],
      "execution_count": null,
      "outputs": []
    },
    {
      "cell_type": "code",
      "metadata": {
        "id": "kmfZfePMMlHe"
      },
      "source": [
        "#data['InvoiceTime'] = pd.to_timedelta(data['InvoiceTime'].astype(str))"
      ],
      "execution_count": null,
      "outputs": []
    },
    {
      "cell_type": "code",
      "metadata": {
        "id": "LSF76ZJ-M9IX"
      },
      "source": [
        "data.info()"
      ],
      "execution_count": null,
      "outputs": []
    },
    {
      "cell_type": "code",
      "metadata": {
        "id": "vVOQth0YNXaE"
      },
      "source": [
        "data.describe(include='datetime')"
      ],
      "execution_count": null,
      "outputs": []
    },
    {
      "cell_type": "code",
      "metadata": {
        "id": "XftXNRuVNxcg"
      },
      "source": [
        "data.describe(include='all')"
      ],
      "execution_count": null,
      "outputs": []
    },
    {
      "cell_type": "code",
      "metadata": {
        "id": "zyYXqdZyOf4w"
      },
      "source": [
        "data['InvoiceDate'].dt.day_name()"
      ],
      "execution_count": null,
      "outputs": []
    },
    {
      "cell_type": "code",
      "metadata": {
        "id": "0GSRnS_UXyfj"
      },
      "source": [
        "data['InvoiceDay'] = data['InvoiceDate'].dt.day_name()"
      ],
      "execution_count": null,
      "outputs": []
    },
    {
      "cell_type": "code",
      "metadata": {
        "id": "h2AzCQk8ZZex"
      },
      "source": [
        "data.head(10)"
      ],
      "execution_count": null,
      "outputs": []
    },
    {
      "cell_type": "code",
      "metadata": {
        "id": "V6APmBTxZi0q"
      },
      "source": [
        "#data.to_csv('/content/drive/My Drive/ColabDataset/PreProcessed_Concatenate_B2C_B2E.csv',index = False)"
      ],
      "execution_count": null,
      "outputs": []
    },
    {
      "cell_type": "code",
      "metadata": {
        "id": "0QpEZU3MbCZj"
      },
      "source": [
        "data2 = pd.read_csv('/content/drive/My Drive/ColabDataset/PreProcessed_Concatenate_B2C_B2E.csv')"
      ],
      "execution_count": null,
      "outputs": []
    },
    {
      "cell_type": "code",
      "metadata": {
        "id": "Z47QUg63bLDP"
      },
      "source": [
        "data2.head()"
      ],
      "execution_count": null,
      "outputs": []
    },
    {
      "cell_type": "code",
      "metadata": {
        "id": "7NyCQhbRbMkF"
      },
      "source": [
        "len(data2)"
      ],
      "execution_count": null,
      "outputs": []
    },
    {
      "cell_type": "code",
      "metadata": {
        "id": "MCI3Ow9InxOI"
      },
      "source": [],
      "execution_count": null,
      "outputs": []
    }
  ]
}